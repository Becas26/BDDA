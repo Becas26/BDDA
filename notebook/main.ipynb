{
 "cells": [
  {
   "cell_type": "markdown",
   "id": "f886cb66",
   "metadata": {},
   "source": [
    "### Imports"
   ]
  },
  {
   "cell_type": "code",
   "id": "initial_id",
   "metadata": {
    "collapsed": true,
    "ExecuteTime": {
     "end_time": "2025-01-02T17:12:40.451031Z",
     "start_time": "2025-01-02T17:12:40.168711Z"
    }
   },
   "source": [
    "import sys\n",
    "import os\n",
    "import pandas as pd\n",
    "from pathlib import Path\n",
    "import matplotlib.pyplot as plt\n",
    "import seaborn as sns\n",
    "from IPython.display import Markdown, display\n",
    "import re\n",
    "import datetime\n",
    "import requests\n",
    "from bs4 import BeautifulSoup\n",
    "import spotipy\n",
    "from spotipy.oauth2 import SpotifyOAuth\n",
    "\n",
    "# Caminho da pasta \"Twitch\"\n",
    "base_dir = Path(os.getcwd()).resolve().parent  # Ajuste se necessário\n",
    "\n",
    "# Adicionar as pasta ao sys.path\n",
    "data_dir = base_dir / 'data'\n",
    "src_data_dir = base_dir / 'src' / 'data'\n",
    "sys.path.append(str(data_dir))\n",
    "sys.path.append(str(src_data_dir))\n",
    "\n",
    "try:\n",
    "    import API_Spotify as api\n",
    "    import get_data\n",
    "except ImportError:\n",
    "    print(\"Erro: Não foi possível importar algum módulo. Verifique se o caminho está correto.\")"
   ],
   "outputs": [
    {
     "name": "stderr",
     "output_type": "stream",
     "text": [
      "C:\\Users\\diogo\\Desktop\\BDDA\\.venv\\Lib\\site-packages\\tqdm\\auto.py:21: TqdmWarning: IProgress not found. Please update jupyter and ipywidgets. See https://ipywidgets.readthedocs.io/en/stable/user_install.html\n",
      "  from .autonotebook import tqdm as notebook_tqdm\n"
     ]
    }
   ],
   "execution_count": 1
  },
  {
   "metadata": {},
   "cell_type": "markdown",
   "source": "## Get Data",
   "id": "f6ab371aaa6bb761"
  },
  {
   "metadata": {
    "ExecuteTime": {
     "end_time": "2025-01-02T17:12:40.457817Z",
     "start_time": "2025-01-02T17:12:40.453551Z"
    }
   },
   "cell_type": "code",
   "source": [
    "# Diretório onde vão ficar os datasets\n",
    "data_directory = data_dir / \"raw\"\n",
    "\n",
    "def check_directory(data_directory):\n",
    "    if os.path.exists(data_directory) and os.path.isdir(data_directory):\n",
    "        if not os.listdir(data_directory):  # Verifica se a lista de ficheiros/diretórios está vazia\n",
    "            print(\"A pasta está vazia.\")\n",
    "            return True\n",
    "        else:\n",
    "            print(\"A pasta não está vazia.\")\n",
    "            return False\n",
    "    else:\n",
    "        print(\"A pasta não existe ou não é um diretório.\")\n",
    "        return True"
   ],
   "id": "193470eb3314e0bb",
   "outputs": [],
   "execution_count": 2
  },
  {
   "metadata": {
    "ExecuteTime": {
     "end_time": "2025-01-02T17:12:40.622480Z",
     "start_time": "2025-01-02T17:12:40.619185Z"
    }
   },
   "cell_type": "code",
   "source": [
    "if check_directory(data_directory):\n",
    "    # Lista de links dos datasets no Kaggle\n",
    "    links = [\n",
    "        \"hedizekri/top-charts-artists-country\",  # Países dos artistas\n",
    "        \"jackharding/spotify-artist-metadata-top-10k\",  # Idade, género dos artistas\n",
    "        \"rodolfofigueroa/spotify-12m-songs\",  # Spotify 12M Songs\n",
    "        \"estienneggx/spotify-unpopular-songs\",  # Unpopular Songs\n",
    "    ]\n",
    "\n",
    "    # Executa o processo de download e conversão\n",
    "    get_data.kaggleDownload(data_directory, links)"
   ],
   "id": "f52f876ce8645f2f",
   "outputs": [
    {
     "name": "stdout",
     "output_type": "stream",
     "text": [
      "A pasta não está vazia.\n"
     ]
    }
   ],
   "execution_count": 3
  },
  {
   "cell_type": "markdown",
   "id": "a9f45c2a99386e74",
   "metadata": {},
   "source": [
    "## Artists"
   ]
  },
  {
   "cell_type": "code",
   "id": "a2663881",
   "metadata": {
    "ExecuteTime": {
     "end_time": "2025-01-02T17:12:40.646724Z",
     "start_time": "2025-01-02T17:12:40.627675Z"
    }
   },
   "source": [
    "Artist_country =  pd.read_csv(data_directory / \"Top_Charts_Artists_Country.csv\")\n",
    "Artist_metaData = pd.read_csv(data_directory / \"top10k-spotify-artist-metadata.csv\")\n",
    "# Artist_tracks = pd.read_csv(data_directory /\"tracks_features.csv\")\n",
    "Artist_country"
   ],
   "outputs": [
    {
     "data": {
      "text/plain": [
       "              Artist         Country\n",
       "0        Miley Cyrus   United States\n",
       "1        FIFTY FIFTY  United Kingdom\n",
       "2            ROSALÍA           Spain\n",
       "3     PinkPantheress  United Kingdom\n",
       "4       Metro Boomin   United States\n",
       "..               ...             ...\n",
       "960             Meck  United Kingdom\n",
       "961      Matt Simons   United States\n",
       "962  Hoodie Forester     Netherlands\n",
       "963              NSB   United States\n",
       "964   Samantha Mumba  United Kingdom\n",
       "\n",
       "[965 rows x 2 columns]"
      ],
      "text/html": [
       "<div>\n",
       "<style scoped>\n",
       "    .dataframe tbody tr th:only-of-type {\n",
       "        vertical-align: middle;\n",
       "    }\n",
       "\n",
       "    .dataframe tbody tr th {\n",
       "        vertical-align: top;\n",
       "    }\n",
       "\n",
       "    .dataframe thead th {\n",
       "        text-align: right;\n",
       "    }\n",
       "</style>\n",
       "<table border=\"1\" class=\"dataframe\">\n",
       "  <thead>\n",
       "    <tr style=\"text-align: right;\">\n",
       "      <th></th>\n",
       "      <th>Artist</th>\n",
       "      <th>Country</th>\n",
       "    </tr>\n",
       "  </thead>\n",
       "  <tbody>\n",
       "    <tr>\n",
       "      <th>0</th>\n",
       "      <td>Miley Cyrus</td>\n",
       "      <td>United States</td>\n",
       "    </tr>\n",
       "    <tr>\n",
       "      <th>1</th>\n",
       "      <td>FIFTY FIFTY</td>\n",
       "      <td>United Kingdom</td>\n",
       "    </tr>\n",
       "    <tr>\n",
       "      <th>2</th>\n",
       "      <td>ROSALÍA</td>\n",
       "      <td>Spain</td>\n",
       "    </tr>\n",
       "    <tr>\n",
       "      <th>3</th>\n",
       "      <td>PinkPantheress</td>\n",
       "      <td>United Kingdom</td>\n",
       "    </tr>\n",
       "    <tr>\n",
       "      <th>4</th>\n",
       "      <td>Metro Boomin</td>\n",
       "      <td>United States</td>\n",
       "    </tr>\n",
       "    <tr>\n",
       "      <th>...</th>\n",
       "      <td>...</td>\n",
       "      <td>...</td>\n",
       "    </tr>\n",
       "    <tr>\n",
       "      <th>960</th>\n",
       "      <td>Meck</td>\n",
       "      <td>United Kingdom</td>\n",
       "    </tr>\n",
       "    <tr>\n",
       "      <th>961</th>\n",
       "      <td>Matt Simons</td>\n",
       "      <td>United States</td>\n",
       "    </tr>\n",
       "    <tr>\n",
       "      <th>962</th>\n",
       "      <td>Hoodie Forester</td>\n",
       "      <td>Netherlands</td>\n",
       "    </tr>\n",
       "    <tr>\n",
       "      <th>963</th>\n",
       "      <td>NSB</td>\n",
       "      <td>United States</td>\n",
       "    </tr>\n",
       "    <tr>\n",
       "      <th>964</th>\n",
       "      <td>Samantha Mumba</td>\n",
       "      <td>United Kingdom</td>\n",
       "    </tr>\n",
       "  </tbody>\n",
       "</table>\n",
       "<p>965 rows × 2 columns</p>\n",
       "</div>"
      ]
     },
     "execution_count": 4,
     "metadata": {},
     "output_type": "execute_result"
    }
   ],
   "execution_count": 4
  },
  {
   "cell_type": "code",
   "id": "5a7d50ff4a4ba88a",
   "metadata": {
    "ExecuteTime": {
     "end_time": "2025-01-02T17:12:40.675123Z",
     "start_time": "2025-01-02T17:12:40.668678Z"
    }
   },
   "source": [
    "Artist_metaData"
   ],
   "outputs": [
    {
     "data": {
      "text/plain": [
       "      Unnamed: 0  index              artist  gender  age    type country  \\\n",
       "0              0      0               Drake    male   33  person      CA   \n",
       "1              1      1         Post Malone    male   25  person      US   \n",
       "2              2      2          Ed Sheeran    male   29  person      GB   \n",
       "3              3      3            J Balvin    male   35  person      CO   \n",
       "4              4      4           Bad Bunny    male   26  person      PR   \n",
       "...          ...    ...                 ...     ...  ...     ...     ...   \n",
       "9995        9995   4991          si_el_bien     NaN    0     NaN     NaN   \n",
       "9996        9996   4992  Antonello Venditti    male   71  person      IT   \n",
       "9997        9997   4993         Lea Salonga  female   49  person      PH   \n",
       "9998        9998   4994    Vertical Horizon   mixed   29   group     NaN   \n",
       "9999        9999   4995               Lakko    male    0  person      ES   \n",
       "\n",
       "       city_1 district_1    city_2 district_2 city_3 district_3  \n",
       "0         NaN        NaN   Toronto        NaN    NaN        NaN  \n",
       "1         NaN        NaN  Syracuse        NaN    NaN        NaN  \n",
       "2         NaN        NaN   Halifax        NaN    NaN        NaN  \n",
       "3         NaN        NaN  Medellín        NaN    NaN        NaN  \n",
       "4         NaN        NaN  San Juan        NaN    NaN        NaN  \n",
       "...       ...        ...       ...        ...    ...        ...  \n",
       "9995  Chicago        NaN       NaN        NaN    NaN        NaN  \n",
       "9996      NaN        NaN      Rome        NaN    NaN        NaN  \n",
       "9997      NaN        NaN       NaN        NaN    NaN        NaN  \n",
       "9998   Boston        NaN       NaN        NaN    NaN        NaN  \n",
       "9999      NaN        NaN       NaN        NaN    NaN        NaN  \n",
       "\n",
       "[10000 rows x 13 columns]"
      ],
      "text/html": [
       "<div>\n",
       "<style scoped>\n",
       "    .dataframe tbody tr th:only-of-type {\n",
       "        vertical-align: middle;\n",
       "    }\n",
       "\n",
       "    .dataframe tbody tr th {\n",
       "        vertical-align: top;\n",
       "    }\n",
       "\n",
       "    .dataframe thead th {\n",
       "        text-align: right;\n",
       "    }\n",
       "</style>\n",
       "<table border=\"1\" class=\"dataframe\">\n",
       "  <thead>\n",
       "    <tr style=\"text-align: right;\">\n",
       "      <th></th>\n",
       "      <th>Unnamed: 0</th>\n",
       "      <th>index</th>\n",
       "      <th>artist</th>\n",
       "      <th>gender</th>\n",
       "      <th>age</th>\n",
       "      <th>type</th>\n",
       "      <th>country</th>\n",
       "      <th>city_1</th>\n",
       "      <th>district_1</th>\n",
       "      <th>city_2</th>\n",
       "      <th>district_2</th>\n",
       "      <th>city_3</th>\n",
       "      <th>district_3</th>\n",
       "    </tr>\n",
       "  </thead>\n",
       "  <tbody>\n",
       "    <tr>\n",
       "      <th>0</th>\n",
       "      <td>0</td>\n",
       "      <td>0</td>\n",
       "      <td>Drake</td>\n",
       "      <td>male</td>\n",
       "      <td>33</td>\n",
       "      <td>person</td>\n",
       "      <td>CA</td>\n",
       "      <td>NaN</td>\n",
       "      <td>NaN</td>\n",
       "      <td>Toronto</td>\n",
       "      <td>NaN</td>\n",
       "      <td>NaN</td>\n",
       "      <td>NaN</td>\n",
       "    </tr>\n",
       "    <tr>\n",
       "      <th>1</th>\n",
       "      <td>1</td>\n",
       "      <td>1</td>\n",
       "      <td>Post Malone</td>\n",
       "      <td>male</td>\n",
       "      <td>25</td>\n",
       "      <td>person</td>\n",
       "      <td>US</td>\n",
       "      <td>NaN</td>\n",
       "      <td>NaN</td>\n",
       "      <td>Syracuse</td>\n",
       "      <td>NaN</td>\n",
       "      <td>NaN</td>\n",
       "      <td>NaN</td>\n",
       "    </tr>\n",
       "    <tr>\n",
       "      <th>2</th>\n",
       "      <td>2</td>\n",
       "      <td>2</td>\n",
       "      <td>Ed Sheeran</td>\n",
       "      <td>male</td>\n",
       "      <td>29</td>\n",
       "      <td>person</td>\n",
       "      <td>GB</td>\n",
       "      <td>NaN</td>\n",
       "      <td>NaN</td>\n",
       "      <td>Halifax</td>\n",
       "      <td>NaN</td>\n",
       "      <td>NaN</td>\n",
       "      <td>NaN</td>\n",
       "    </tr>\n",
       "    <tr>\n",
       "      <th>3</th>\n",
       "      <td>3</td>\n",
       "      <td>3</td>\n",
       "      <td>J Balvin</td>\n",
       "      <td>male</td>\n",
       "      <td>35</td>\n",
       "      <td>person</td>\n",
       "      <td>CO</td>\n",
       "      <td>NaN</td>\n",
       "      <td>NaN</td>\n",
       "      <td>Medellín</td>\n",
       "      <td>NaN</td>\n",
       "      <td>NaN</td>\n",
       "      <td>NaN</td>\n",
       "    </tr>\n",
       "    <tr>\n",
       "      <th>4</th>\n",
       "      <td>4</td>\n",
       "      <td>4</td>\n",
       "      <td>Bad Bunny</td>\n",
       "      <td>male</td>\n",
       "      <td>26</td>\n",
       "      <td>person</td>\n",
       "      <td>PR</td>\n",
       "      <td>NaN</td>\n",
       "      <td>NaN</td>\n",
       "      <td>San Juan</td>\n",
       "      <td>NaN</td>\n",
       "      <td>NaN</td>\n",
       "      <td>NaN</td>\n",
       "    </tr>\n",
       "    <tr>\n",
       "      <th>...</th>\n",
       "      <td>...</td>\n",
       "      <td>...</td>\n",
       "      <td>...</td>\n",
       "      <td>...</td>\n",
       "      <td>...</td>\n",
       "      <td>...</td>\n",
       "      <td>...</td>\n",
       "      <td>...</td>\n",
       "      <td>...</td>\n",
       "      <td>...</td>\n",
       "      <td>...</td>\n",
       "      <td>...</td>\n",
       "      <td>...</td>\n",
       "    </tr>\n",
       "    <tr>\n",
       "      <th>9995</th>\n",
       "      <td>9995</td>\n",
       "      <td>4991</td>\n",
       "      <td>si_el_bien</td>\n",
       "      <td>NaN</td>\n",
       "      <td>0</td>\n",
       "      <td>NaN</td>\n",
       "      <td>NaN</td>\n",
       "      <td>Chicago</td>\n",
       "      <td>NaN</td>\n",
       "      <td>NaN</td>\n",
       "      <td>NaN</td>\n",
       "      <td>NaN</td>\n",
       "      <td>NaN</td>\n",
       "    </tr>\n",
       "    <tr>\n",
       "      <th>9996</th>\n",
       "      <td>9996</td>\n",
       "      <td>4992</td>\n",
       "      <td>Antonello Venditti</td>\n",
       "      <td>male</td>\n",
       "      <td>71</td>\n",
       "      <td>person</td>\n",
       "      <td>IT</td>\n",
       "      <td>NaN</td>\n",
       "      <td>NaN</td>\n",
       "      <td>Rome</td>\n",
       "      <td>NaN</td>\n",
       "      <td>NaN</td>\n",
       "      <td>NaN</td>\n",
       "    </tr>\n",
       "    <tr>\n",
       "      <th>9997</th>\n",
       "      <td>9997</td>\n",
       "      <td>4993</td>\n",
       "      <td>Lea Salonga</td>\n",
       "      <td>female</td>\n",
       "      <td>49</td>\n",
       "      <td>person</td>\n",
       "      <td>PH</td>\n",
       "      <td>NaN</td>\n",
       "      <td>NaN</td>\n",
       "      <td>NaN</td>\n",
       "      <td>NaN</td>\n",
       "      <td>NaN</td>\n",
       "      <td>NaN</td>\n",
       "    </tr>\n",
       "    <tr>\n",
       "      <th>9998</th>\n",
       "      <td>9998</td>\n",
       "      <td>4994</td>\n",
       "      <td>Vertical Horizon</td>\n",
       "      <td>mixed</td>\n",
       "      <td>29</td>\n",
       "      <td>group</td>\n",
       "      <td>NaN</td>\n",
       "      <td>Boston</td>\n",
       "      <td>NaN</td>\n",
       "      <td>NaN</td>\n",
       "      <td>NaN</td>\n",
       "      <td>NaN</td>\n",
       "      <td>NaN</td>\n",
       "    </tr>\n",
       "    <tr>\n",
       "      <th>9999</th>\n",
       "      <td>9999</td>\n",
       "      <td>4995</td>\n",
       "      <td>Lakko</td>\n",
       "      <td>male</td>\n",
       "      <td>0</td>\n",
       "      <td>person</td>\n",
       "      <td>ES</td>\n",
       "      <td>NaN</td>\n",
       "      <td>NaN</td>\n",
       "      <td>NaN</td>\n",
       "      <td>NaN</td>\n",
       "      <td>NaN</td>\n",
       "      <td>NaN</td>\n",
       "    </tr>\n",
       "  </tbody>\n",
       "</table>\n",
       "<p>10000 rows × 13 columns</p>\n",
       "</div>"
      ]
     },
     "execution_count": 5,
     "metadata": {},
     "output_type": "execute_result"
    }
   ],
   "execution_count": 5
  },
  {
   "metadata": {},
   "cell_type": "markdown",
   "source": "### Limpeza",
   "id": "a6702672"
  },
  {
   "cell_type": "code",
   "id": "f70a6f79",
   "metadata": {
    "ExecuteTime": {
     "end_time": "2025-01-02T17:12:40.754627Z",
     "start_time": "2025-01-02T17:12:40.742295Z"
    }
   },
   "source": [
    "def clean_text(text):\n",
    "    if pd.isnull(text):  # Verifica se é nulo\n",
    "        return text\n",
    "    # Remove pontuação usando regex\n",
    "    text = re.sub(r'[^\\w\\s]', '', text)\n",
    "    # Converte para minúsculas\n",
    "    text = text.title()\n",
    "    # Remove espaços extras\n",
    "    text = ' '.join(text.split())\n",
    "    return text\n",
    "\n",
    "# Colocar nomes uniformizados\n",
    "Artist_metaData['artist_cleaned'] = Artist_metaData['artist'].apply(clean_text)\n",
    "Artist_country['artist_cleaned'] = Artist_country['Artist'].apply(clean_text)"
   ],
   "outputs": [],
   "execution_count": 6
  },
  {
   "cell_type": "code",
   "id": "d7f81349",
   "metadata": {
    "ExecuteTime": {
     "end_time": "2025-01-02T17:12:40.820821Z",
     "start_time": "2025-01-02T17:12:40.815136Z"
    }
   },
   "source": [
    "# Artistas que não estão presentes na DB secundária (vão ser apagados)\n",
    "Artist_country[~Artist_country[\"artist_cleaned\"].isin(Artist_metaData[\"artist_cleaned\"])]"
   ],
   "outputs": [
    {
     "data": {
      "text/plain": [
       "              Artist         Country   artist_cleaned\n",
       "1        FIFTY FIFTY  United Kingdom      Fifty Fifty\n",
       "3     PinkPantheress  United Kingdom   Pinkpantheress\n",
       "5      David Kushner   United States    David Kushner\n",
       "7               Rema         Nigeria             Rema\n",
       "9               d4vd   United States             D4Vd\n",
       "..               ...             ...              ...\n",
       "958       Big Brovaz  United Kingdom       Big Brovaz\n",
       "960             Meck  United Kingdom             Meck\n",
       "962  Hoodie Forester     Netherlands  Hoodie Forester\n",
       "963              NSB   United States              Nsb\n",
       "964   Samantha Mumba  United Kingdom   Samantha Mumba\n",
       "\n",
       "[310 rows x 3 columns]"
      ],
      "text/html": [
       "<div>\n",
       "<style scoped>\n",
       "    .dataframe tbody tr th:only-of-type {\n",
       "        vertical-align: middle;\n",
       "    }\n",
       "\n",
       "    .dataframe tbody tr th {\n",
       "        vertical-align: top;\n",
       "    }\n",
       "\n",
       "    .dataframe thead th {\n",
       "        text-align: right;\n",
       "    }\n",
       "</style>\n",
       "<table border=\"1\" class=\"dataframe\">\n",
       "  <thead>\n",
       "    <tr style=\"text-align: right;\">\n",
       "      <th></th>\n",
       "      <th>Artist</th>\n",
       "      <th>Country</th>\n",
       "      <th>artist_cleaned</th>\n",
       "    </tr>\n",
       "  </thead>\n",
       "  <tbody>\n",
       "    <tr>\n",
       "      <th>1</th>\n",
       "      <td>FIFTY FIFTY</td>\n",
       "      <td>United Kingdom</td>\n",
       "      <td>Fifty Fifty</td>\n",
       "    </tr>\n",
       "    <tr>\n",
       "      <th>3</th>\n",
       "      <td>PinkPantheress</td>\n",
       "      <td>United Kingdom</td>\n",
       "      <td>Pinkpantheress</td>\n",
       "    </tr>\n",
       "    <tr>\n",
       "      <th>5</th>\n",
       "      <td>David Kushner</td>\n",
       "      <td>United States</td>\n",
       "      <td>David Kushner</td>\n",
       "    </tr>\n",
       "    <tr>\n",
       "      <th>7</th>\n",
       "      <td>Rema</td>\n",
       "      <td>Nigeria</td>\n",
       "      <td>Rema</td>\n",
       "    </tr>\n",
       "    <tr>\n",
       "      <th>9</th>\n",
       "      <td>d4vd</td>\n",
       "      <td>United States</td>\n",
       "      <td>D4Vd</td>\n",
       "    </tr>\n",
       "    <tr>\n",
       "      <th>...</th>\n",
       "      <td>...</td>\n",
       "      <td>...</td>\n",
       "      <td>...</td>\n",
       "    </tr>\n",
       "    <tr>\n",
       "      <th>958</th>\n",
       "      <td>Big Brovaz</td>\n",
       "      <td>United Kingdom</td>\n",
       "      <td>Big Brovaz</td>\n",
       "    </tr>\n",
       "    <tr>\n",
       "      <th>960</th>\n",
       "      <td>Meck</td>\n",
       "      <td>United Kingdom</td>\n",
       "      <td>Meck</td>\n",
       "    </tr>\n",
       "    <tr>\n",
       "      <th>962</th>\n",
       "      <td>Hoodie Forester</td>\n",
       "      <td>Netherlands</td>\n",
       "      <td>Hoodie Forester</td>\n",
       "    </tr>\n",
       "    <tr>\n",
       "      <th>963</th>\n",
       "      <td>NSB</td>\n",
       "      <td>United States</td>\n",
       "      <td>Nsb</td>\n",
       "    </tr>\n",
       "    <tr>\n",
       "      <th>964</th>\n",
       "      <td>Samantha Mumba</td>\n",
       "      <td>United Kingdom</td>\n",
       "      <td>Samantha Mumba</td>\n",
       "    </tr>\n",
       "  </tbody>\n",
       "</table>\n",
       "<p>310 rows × 3 columns</p>\n",
       "</div>"
      ]
     },
     "execution_count": 7,
     "metadata": {},
     "output_type": "execute_result"
    }
   ],
   "execution_count": 7
  },
  {
   "cell_type": "code",
   "id": "d5a94f14ea71a559",
   "metadata": {
    "ExecuteTime": {
     "end_time": "2025-01-02T17:12:40.862168Z",
     "start_time": "2025-01-02T17:12:40.852905Z"
    }
   },
   "source": [
    "# Juntar as tabelas\n",
    "if 'Artist_metaData' in locals() and 'Artist_country' in locals():\n",
    "    # Faz o merge entre as duas tabelas com base na coluna 'artist_cleaned'\n",
    "    merged_table = pd.merge(\n",
    "        Artist_metaData,\n",
    "        Artist_country,\n",
    "        on='artist_cleaned',  # Coluna de ligação\n",
    "        how='inner'           # Tipo de junção ('inner', 'left', 'right', 'outer')\n",
    "    )\n",
    "    del Artist_metaData, Artist_country\n",
    "\n",
    "# Seleciona apenas as colunas que nos interessam\n",
    "Artist_details = merged_table[['artist_cleaned', 'gender', 'age', 'Country']]\n",
    "Artist_details = Artist_details.rename(columns={'artist_cleaned': 'artist_name', 'Country': 'country_born'})\n",
    "\n",
    "# Queremos artistas singulares, não grupos\n",
    "Artist_details = Artist_details[Artist_details['gender'] != 'mixed']\n",
    "\n",
    "# A base de dados com a idade dos artistas foi publicada em 2021\n",
    "## https://www.kaggle.com/datasets/jackharding/spotify-artist-metadata-top-10k/data\n",
    "if 0 in Artist_details[\"age\"].unique():\n",
    "    Artist_details[\"age\"] = Artist_details[\"age\"] + datetime.datetime.now().year - 2021\n",
    "Artist_details"
   ],
   "outputs": [
    {
     "data": {
      "text/plain": [
       "           artist_name gender  age    country_born\n",
       "0                Drake   male   37          Canada\n",
       "1          Post Malone   male   29   United States\n",
       "2           Ed Sheeran   male   33  United Kingdom\n",
       "3             J Balvin   male   39        Colombia\n",
       "4            Bad Bunny   male   30     Puerto Rico\n",
       "..                 ...    ...  ...             ...\n",
       "651                 Mo    NaN    4  United Kingdom\n",
       "660              Sisqo   male   45   United States\n",
       "664  Waka Flocka Flame   male   38   United States\n",
       "665           Lou Bega   male   49         Germany\n",
       "666        Chris Brown   male   35   United States\n",
       "\n",
       "[492 rows x 4 columns]"
      ],
      "text/html": [
       "<div>\n",
       "<style scoped>\n",
       "    .dataframe tbody tr th:only-of-type {\n",
       "        vertical-align: middle;\n",
       "    }\n",
       "\n",
       "    .dataframe tbody tr th {\n",
       "        vertical-align: top;\n",
       "    }\n",
       "\n",
       "    .dataframe thead th {\n",
       "        text-align: right;\n",
       "    }\n",
       "</style>\n",
       "<table border=\"1\" class=\"dataframe\">\n",
       "  <thead>\n",
       "    <tr style=\"text-align: right;\">\n",
       "      <th></th>\n",
       "      <th>artist_name</th>\n",
       "      <th>gender</th>\n",
       "      <th>age</th>\n",
       "      <th>country_born</th>\n",
       "    </tr>\n",
       "  </thead>\n",
       "  <tbody>\n",
       "    <tr>\n",
       "      <th>0</th>\n",
       "      <td>Drake</td>\n",
       "      <td>male</td>\n",
       "      <td>37</td>\n",
       "      <td>Canada</td>\n",
       "    </tr>\n",
       "    <tr>\n",
       "      <th>1</th>\n",
       "      <td>Post Malone</td>\n",
       "      <td>male</td>\n",
       "      <td>29</td>\n",
       "      <td>United States</td>\n",
       "    </tr>\n",
       "    <tr>\n",
       "      <th>2</th>\n",
       "      <td>Ed Sheeran</td>\n",
       "      <td>male</td>\n",
       "      <td>33</td>\n",
       "      <td>United Kingdom</td>\n",
       "    </tr>\n",
       "    <tr>\n",
       "      <th>3</th>\n",
       "      <td>J Balvin</td>\n",
       "      <td>male</td>\n",
       "      <td>39</td>\n",
       "      <td>Colombia</td>\n",
       "    </tr>\n",
       "    <tr>\n",
       "      <th>4</th>\n",
       "      <td>Bad Bunny</td>\n",
       "      <td>male</td>\n",
       "      <td>30</td>\n",
       "      <td>Puerto Rico</td>\n",
       "    </tr>\n",
       "    <tr>\n",
       "      <th>...</th>\n",
       "      <td>...</td>\n",
       "      <td>...</td>\n",
       "      <td>...</td>\n",
       "      <td>...</td>\n",
       "    </tr>\n",
       "    <tr>\n",
       "      <th>651</th>\n",
       "      <td>Mo</td>\n",
       "      <td>NaN</td>\n",
       "      <td>4</td>\n",
       "      <td>United Kingdom</td>\n",
       "    </tr>\n",
       "    <tr>\n",
       "      <th>660</th>\n",
       "      <td>Sisqo</td>\n",
       "      <td>male</td>\n",
       "      <td>45</td>\n",
       "      <td>United States</td>\n",
       "    </tr>\n",
       "    <tr>\n",
       "      <th>664</th>\n",
       "      <td>Waka Flocka Flame</td>\n",
       "      <td>male</td>\n",
       "      <td>38</td>\n",
       "      <td>United States</td>\n",
       "    </tr>\n",
       "    <tr>\n",
       "      <th>665</th>\n",
       "      <td>Lou Bega</td>\n",
       "      <td>male</td>\n",
       "      <td>49</td>\n",
       "      <td>Germany</td>\n",
       "    </tr>\n",
       "    <tr>\n",
       "      <th>666</th>\n",
       "      <td>Chris Brown</td>\n",
       "      <td>male</td>\n",
       "      <td>35</td>\n",
       "      <td>United States</td>\n",
       "    </tr>\n",
       "  </tbody>\n",
       "</table>\n",
       "<p>492 rows × 4 columns</p>\n",
       "</div>"
      ]
     },
     "execution_count": 8,
     "metadata": {},
     "output_type": "execute_result"
    }
   ],
   "execution_count": 8
  },
  {
   "cell_type": "code",
   "id": "e1d79dd828208a5f",
   "metadata": {
    "ExecuteTime": {
     "end_time": "2025-01-02T17:12:40.949586Z",
     "start_time": "2025-01-02T17:12:40.944Z"
    }
   },
   "source": [
    "Artist_details[Artist_details.isnull().any(axis=1)]"
   ],
   "outputs": [
    {
     "data": {
      "text/plain": [
       "    artist_name gender  age    country_born\n",
       "53    Annemarie    NaN    4          France\n",
       "314    Bizarrap    NaN   26       Argentina\n",
       "357    Big Shaq    NaN   32  United Kingdom\n",
       "388      Giveon    NaN    4   United States\n",
       "399         Nsg    NaN    4       Indonesia\n",
       "424          Mo    NaN    4  United Kingdom\n",
       "508        Chip    NaN    4  United Kingdom\n",
       "587      Lyodra    NaN    4       Indonesia\n",
       "602    Diskoria    NaN    4       Indonesia\n",
       "651          Mo    NaN    4  United Kingdom"
      ],
      "text/html": [
       "<div>\n",
       "<style scoped>\n",
       "    .dataframe tbody tr th:only-of-type {\n",
       "        vertical-align: middle;\n",
       "    }\n",
       "\n",
       "    .dataframe tbody tr th {\n",
       "        vertical-align: top;\n",
       "    }\n",
       "\n",
       "    .dataframe thead th {\n",
       "        text-align: right;\n",
       "    }\n",
       "</style>\n",
       "<table border=\"1\" class=\"dataframe\">\n",
       "  <thead>\n",
       "    <tr style=\"text-align: right;\">\n",
       "      <th></th>\n",
       "      <th>artist_name</th>\n",
       "      <th>gender</th>\n",
       "      <th>age</th>\n",
       "      <th>country_born</th>\n",
       "    </tr>\n",
       "  </thead>\n",
       "  <tbody>\n",
       "    <tr>\n",
       "      <th>53</th>\n",
       "      <td>Annemarie</td>\n",
       "      <td>NaN</td>\n",
       "      <td>4</td>\n",
       "      <td>France</td>\n",
       "    </tr>\n",
       "    <tr>\n",
       "      <th>314</th>\n",
       "      <td>Bizarrap</td>\n",
       "      <td>NaN</td>\n",
       "      <td>26</td>\n",
       "      <td>Argentina</td>\n",
       "    </tr>\n",
       "    <tr>\n",
       "      <th>357</th>\n",
       "      <td>Big Shaq</td>\n",
       "      <td>NaN</td>\n",
       "      <td>32</td>\n",
       "      <td>United Kingdom</td>\n",
       "    </tr>\n",
       "    <tr>\n",
       "      <th>388</th>\n",
       "      <td>Giveon</td>\n",
       "      <td>NaN</td>\n",
       "      <td>4</td>\n",
       "      <td>United States</td>\n",
       "    </tr>\n",
       "    <tr>\n",
       "      <th>399</th>\n",
       "      <td>Nsg</td>\n",
       "      <td>NaN</td>\n",
       "      <td>4</td>\n",
       "      <td>Indonesia</td>\n",
       "    </tr>\n",
       "    <tr>\n",
       "      <th>424</th>\n",
       "      <td>Mo</td>\n",
       "      <td>NaN</td>\n",
       "      <td>4</td>\n",
       "      <td>United Kingdom</td>\n",
       "    </tr>\n",
       "    <tr>\n",
       "      <th>508</th>\n",
       "      <td>Chip</td>\n",
       "      <td>NaN</td>\n",
       "      <td>4</td>\n",
       "      <td>United Kingdom</td>\n",
       "    </tr>\n",
       "    <tr>\n",
       "      <th>587</th>\n",
       "      <td>Lyodra</td>\n",
       "      <td>NaN</td>\n",
       "      <td>4</td>\n",
       "      <td>Indonesia</td>\n",
       "    </tr>\n",
       "    <tr>\n",
       "      <th>602</th>\n",
       "      <td>Diskoria</td>\n",
       "      <td>NaN</td>\n",
       "      <td>4</td>\n",
       "      <td>Indonesia</td>\n",
       "    </tr>\n",
       "    <tr>\n",
       "      <th>651</th>\n",
       "      <td>Mo</td>\n",
       "      <td>NaN</td>\n",
       "      <td>4</td>\n",
       "      <td>United Kingdom</td>\n",
       "    </tr>\n",
       "  </tbody>\n",
       "</table>\n",
       "</div>"
      ]
     },
     "execution_count": 9,
     "metadata": {},
     "output_type": "execute_result"
    }
   ],
   "execution_count": 9
  },
  {
   "metadata": {
    "ExecuteTime": {
     "end_time": "2025-01-02T17:12:41.019635Z",
     "start_time": "2025-01-02T17:12:41.013342Z"
    }
   },
   "cell_type": "code",
   "source": [
    "# Definir manualmente os valores da coluna 'gender' para alguns artistas\n",
    "Artist_details.loc[Artist_details['artist_name'] == 'Annemarie', 'gender'] = 'female'\n",
    "Artist_details.loc[Artist_details['artist_name'] == 'Bizarrap', 'gender'] = 'Male'\n",
    "Artist_details.loc[Artist_details['artist_name'] == 'Big Shaq', 'gender'] = 'Male'\n",
    "Artist_details.loc[Artist_details['artist_name'] == 'Giveon', 'gender'] = 'Male'\n",
    "Artist_details.loc[Artist_details['artist_name'] == 'Chip', 'gender'] = 'Male'\n",
    "Artist_details.loc[Artist_details['artist_name'] == 'Lyodra', 'gender'] = 'Female'\n",
    "\n",
    "# Apagar colunas com valores nulos\n",
    "Artist_details = Artist_details.dropna(axis=0)"
   ],
   "id": "2624505b14d21ed",
   "outputs": [],
   "execution_count": 10
  },
  {
   "metadata": {
    "ExecuteTime": {
     "end_time": "2025-01-02T17:12:41.110194Z",
     "start_time": "2025-01-02T17:12:41.105009Z"
    }
   },
   "cell_type": "code",
   "source": [
    "# Definir manualmente os valores da coluna 'age' para alguns artistas\n",
    "Artist_details.loc[Artist_details['artist_name'] == 'Annemarie', 'age'] = 33 + (2025 - datetime.datetime.now().year)\n",
    "Artist_details.loc[Artist_details['artist_name'] == 'Bizarrap', 'age'] = 26 + (2025 - datetime.datetime.now().year)\n",
    "Artist_details.loc[Artist_details['artist_name'] == 'Big Shaq', 'age'] = 33 + (2025 - datetime.datetime.now().year)\n",
    "Artist_details.loc[Artist_details['artist_name'] == 'Giveon', 'age'] = 29 + (2025 - datetime.datetime.now().year)\n",
    "Artist_details.loc[Artist_details['artist_name'] == 'Chip', 'age'] = 34 + (2025 - datetime.datetime.now().year)\n",
    "Artist_details.loc[Artist_details['artist_name'] == 'Lyodra', 'age'] = 21 + (2025 - datetime.datetime.now().year)\n",
    "Artist_details.loc[Artist_details['artist_name'] == 'Joel Adams', 'age'] = 28 + (2025 - datetime.datetime.now().year)"
   ],
   "id": "aa44f82ab2268d70",
   "outputs": [],
   "execution_count": 11
  },
  {
   "metadata": {
    "ExecuteTime": {
     "end_time": "2025-01-02T17:12:41.153167Z",
     "start_time": "2025-01-02T17:12:41.146049Z"
    }
   },
   "cell_type": "code",
   "source": [
    "incorretAge = Artist_details[Artist_details[\"age\"] == datetime.datetime.now().year - 2021][[\"artist_name\", \"age\"]]\n",
    "incorretAge"
   ],
   "id": "bbc7bbac9b4b0292",
   "outputs": [
    {
     "data": {
      "text/plain": [
       "        artist_name  age\n",
       "50    Manuel Turizo    4\n",
       "66           Offset    4\n",
       "85     Paulo Londra    4\n",
       "93      Tones And I    4\n",
       "109  Rauw Alejandro    4\n",
       "124        Lil Pump    4\n",
       "157          Meduza    4\n",
       "174      Nio Garcia    4\n",
       "183          Dynoro    4\n",
       "188       Saint Jhn    4\n",
       "207            Kyle    4\n",
       "211          Regard    4\n",
       "215          Polo G    4\n",
       "229         Starley    4\n",
       "236      Mike Perry    4\n",
       "290       Aj Tracey    4\n",
       "309       Surf Mesa    4\n",
       "325        24Kgoldn    4\n",
       "334        Rob Tone    4\n",
       "350       Jawsh 685    4\n",
       "355       Pamungkas    4\n",
       "374      Joel Corry    4\n",
       "382  Zay Hilfigerrr    4\n",
       "385             Zhu    4\n",
       "429    Nadin Amizah    4\n",
       "448    Hayden James    4\n",
       "449              Eo    4\n",
       "488          Offset    4\n",
       "534            Kyle    4\n",
       "605    Jaymes Young    4"
      ],
      "text/html": [
       "<div>\n",
       "<style scoped>\n",
       "    .dataframe tbody tr th:only-of-type {\n",
       "        vertical-align: middle;\n",
       "    }\n",
       "\n",
       "    .dataframe tbody tr th {\n",
       "        vertical-align: top;\n",
       "    }\n",
       "\n",
       "    .dataframe thead th {\n",
       "        text-align: right;\n",
       "    }\n",
       "</style>\n",
       "<table border=\"1\" class=\"dataframe\">\n",
       "  <thead>\n",
       "    <tr style=\"text-align: right;\">\n",
       "      <th></th>\n",
       "      <th>artist_name</th>\n",
       "      <th>age</th>\n",
       "    </tr>\n",
       "  </thead>\n",
       "  <tbody>\n",
       "    <tr>\n",
       "      <th>50</th>\n",
       "      <td>Manuel Turizo</td>\n",
       "      <td>4</td>\n",
       "    </tr>\n",
       "    <tr>\n",
       "      <th>66</th>\n",
       "      <td>Offset</td>\n",
       "      <td>4</td>\n",
       "    </tr>\n",
       "    <tr>\n",
       "      <th>85</th>\n",
       "      <td>Paulo Londra</td>\n",
       "      <td>4</td>\n",
       "    </tr>\n",
       "    <tr>\n",
       "      <th>93</th>\n",
       "      <td>Tones And I</td>\n",
       "      <td>4</td>\n",
       "    </tr>\n",
       "    <tr>\n",
       "      <th>109</th>\n",
       "      <td>Rauw Alejandro</td>\n",
       "      <td>4</td>\n",
       "    </tr>\n",
       "    <tr>\n",
       "      <th>124</th>\n",
       "      <td>Lil Pump</td>\n",
       "      <td>4</td>\n",
       "    </tr>\n",
       "    <tr>\n",
       "      <th>157</th>\n",
       "      <td>Meduza</td>\n",
       "      <td>4</td>\n",
       "    </tr>\n",
       "    <tr>\n",
       "      <th>174</th>\n",
       "      <td>Nio Garcia</td>\n",
       "      <td>4</td>\n",
       "    </tr>\n",
       "    <tr>\n",
       "      <th>183</th>\n",
       "      <td>Dynoro</td>\n",
       "      <td>4</td>\n",
       "    </tr>\n",
       "    <tr>\n",
       "      <th>188</th>\n",
       "      <td>Saint Jhn</td>\n",
       "      <td>4</td>\n",
       "    </tr>\n",
       "    <tr>\n",
       "      <th>207</th>\n",
       "      <td>Kyle</td>\n",
       "      <td>4</td>\n",
       "    </tr>\n",
       "    <tr>\n",
       "      <th>211</th>\n",
       "      <td>Regard</td>\n",
       "      <td>4</td>\n",
       "    </tr>\n",
       "    <tr>\n",
       "      <th>215</th>\n",
       "      <td>Polo G</td>\n",
       "      <td>4</td>\n",
       "    </tr>\n",
       "    <tr>\n",
       "      <th>229</th>\n",
       "      <td>Starley</td>\n",
       "      <td>4</td>\n",
       "    </tr>\n",
       "    <tr>\n",
       "      <th>236</th>\n",
       "      <td>Mike Perry</td>\n",
       "      <td>4</td>\n",
       "    </tr>\n",
       "    <tr>\n",
       "      <th>290</th>\n",
       "      <td>Aj Tracey</td>\n",
       "      <td>4</td>\n",
       "    </tr>\n",
       "    <tr>\n",
       "      <th>309</th>\n",
       "      <td>Surf Mesa</td>\n",
       "      <td>4</td>\n",
       "    </tr>\n",
       "    <tr>\n",
       "      <th>325</th>\n",
       "      <td>24Kgoldn</td>\n",
       "      <td>4</td>\n",
       "    </tr>\n",
       "    <tr>\n",
       "      <th>334</th>\n",
       "      <td>Rob Tone</td>\n",
       "      <td>4</td>\n",
       "    </tr>\n",
       "    <tr>\n",
       "      <th>350</th>\n",
       "      <td>Jawsh 685</td>\n",
       "      <td>4</td>\n",
       "    </tr>\n",
       "    <tr>\n",
       "      <th>355</th>\n",
       "      <td>Pamungkas</td>\n",
       "      <td>4</td>\n",
       "    </tr>\n",
       "    <tr>\n",
       "      <th>374</th>\n",
       "      <td>Joel Corry</td>\n",
       "      <td>4</td>\n",
       "    </tr>\n",
       "    <tr>\n",
       "      <th>382</th>\n",
       "      <td>Zay Hilfigerrr</td>\n",
       "      <td>4</td>\n",
       "    </tr>\n",
       "    <tr>\n",
       "      <th>385</th>\n",
       "      <td>Zhu</td>\n",
       "      <td>4</td>\n",
       "    </tr>\n",
       "    <tr>\n",
       "      <th>429</th>\n",
       "      <td>Nadin Amizah</td>\n",
       "      <td>4</td>\n",
       "    </tr>\n",
       "    <tr>\n",
       "      <th>448</th>\n",
       "      <td>Hayden James</td>\n",
       "      <td>4</td>\n",
       "    </tr>\n",
       "    <tr>\n",
       "      <th>449</th>\n",
       "      <td>Eo</td>\n",
       "      <td>4</td>\n",
       "    </tr>\n",
       "    <tr>\n",
       "      <th>488</th>\n",
       "      <td>Offset</td>\n",
       "      <td>4</td>\n",
       "    </tr>\n",
       "    <tr>\n",
       "      <th>534</th>\n",
       "      <td>Kyle</td>\n",
       "      <td>4</td>\n",
       "    </tr>\n",
       "    <tr>\n",
       "      <th>605</th>\n",
       "      <td>Jaymes Young</td>\n",
       "      <td>4</td>\n",
       "    </tr>\n",
       "  </tbody>\n",
       "</table>\n",
       "</div>"
      ]
     },
     "execution_count": 12,
     "metadata": {},
     "output_type": "execute_result"
    }
   ],
   "execution_count": 12
  },
  {
   "metadata": {
    "ExecuteTime": {
     "end_time": "2025-01-02T17:12:46.293542Z",
     "start_time": "2025-01-02T17:12:41.187381Z"
    }
   },
   "cell_type": "code",
   "source": [
    "# Atualizar as idades na tabela\n",
    "incorretAge = api.update_artist_ages(incorretAge)\n",
    "\n",
    "# Atualizar a coluna 'age' na tabela principal\n",
    "Artist_details = Artist_details.merge(\n",
    "    incorretAge,  # Tabela secundária\n",
    "    on='artist_name',  # Coluna de ligação\n",
    "    how='left',  # Faz uma junção à esquerda\n",
    "    suffixes=('', '_secondary')  # Adiciona sufixos para diferenciar colunas\n",
    ")\n",
    "\n",
    "# Preencher os valores de 'age' com os dados da tabela secundária, se disponíveis\n",
    "Artist_details['age'] = Artist_details['age_secondary'].combine_first(Artist_details['age'])\n",
    "\n",
    "# Remover a coluna auxiliar\n",
    "Artist_details = Artist_details.drop(columns=['age_secondary'])\n",
    "\n",
    "Artist_details.dropna(inplace=True)\n",
    "\n",
    "Artist_details"
   ],
   "id": "db20b5ab5dbf956",
   "outputs": [
    {
     "data": {
      "text/plain": [
       "           artist_name gender   age    country_born\n",
       "0                Drake   male  37.0          Canada\n",
       "1          Post Malone   male  29.0   United States\n",
       "2           Ed Sheeran   male  33.0  United Kingdom\n",
       "3             J Balvin   male  39.0        Colombia\n",
       "4            Bad Bunny   male  30.0     Puerto Rico\n",
       "..                 ...    ...   ...             ...\n",
       "487             Miguel   male  54.0   United States\n",
       "488              Sisqo   male  45.0   United States\n",
       "489  Waka Flocka Flame   male  38.0   United States\n",
       "490           Lou Bega   male  49.0         Germany\n",
       "491        Chris Brown   male  35.0   United States\n",
       "\n",
       "[492 rows x 4 columns]"
      ],
      "text/html": [
       "<div>\n",
       "<style scoped>\n",
       "    .dataframe tbody tr th:only-of-type {\n",
       "        vertical-align: middle;\n",
       "    }\n",
       "\n",
       "    .dataframe tbody tr th {\n",
       "        vertical-align: top;\n",
       "    }\n",
       "\n",
       "    .dataframe thead th {\n",
       "        text-align: right;\n",
       "    }\n",
       "</style>\n",
       "<table border=\"1\" class=\"dataframe\">\n",
       "  <thead>\n",
       "    <tr style=\"text-align: right;\">\n",
       "      <th></th>\n",
       "      <th>artist_name</th>\n",
       "      <th>gender</th>\n",
       "      <th>age</th>\n",
       "      <th>country_born</th>\n",
       "    </tr>\n",
       "  </thead>\n",
       "  <tbody>\n",
       "    <tr>\n",
       "      <th>0</th>\n",
       "      <td>Drake</td>\n",
       "      <td>male</td>\n",
       "      <td>37.0</td>\n",
       "      <td>Canada</td>\n",
       "    </tr>\n",
       "    <tr>\n",
       "      <th>1</th>\n",
       "      <td>Post Malone</td>\n",
       "      <td>male</td>\n",
       "      <td>29.0</td>\n",
       "      <td>United States</td>\n",
       "    </tr>\n",
       "    <tr>\n",
       "      <th>2</th>\n",
       "      <td>Ed Sheeran</td>\n",
       "      <td>male</td>\n",
       "      <td>33.0</td>\n",
       "      <td>United Kingdom</td>\n",
       "    </tr>\n",
       "    <tr>\n",
       "      <th>3</th>\n",
       "      <td>J Balvin</td>\n",
       "      <td>male</td>\n",
       "      <td>39.0</td>\n",
       "      <td>Colombia</td>\n",
       "    </tr>\n",
       "    <tr>\n",
       "      <th>4</th>\n",
       "      <td>Bad Bunny</td>\n",
       "      <td>male</td>\n",
       "      <td>30.0</td>\n",
       "      <td>Puerto Rico</td>\n",
       "    </tr>\n",
       "    <tr>\n",
       "      <th>...</th>\n",
       "      <td>...</td>\n",
       "      <td>...</td>\n",
       "      <td>...</td>\n",
       "      <td>...</td>\n",
       "    </tr>\n",
       "    <tr>\n",
       "      <th>487</th>\n",
       "      <td>Miguel</td>\n",
       "      <td>male</td>\n",
       "      <td>54.0</td>\n",
       "      <td>United States</td>\n",
       "    </tr>\n",
       "    <tr>\n",
       "      <th>488</th>\n",
       "      <td>Sisqo</td>\n",
       "      <td>male</td>\n",
       "      <td>45.0</td>\n",
       "      <td>United States</td>\n",
       "    </tr>\n",
       "    <tr>\n",
       "      <th>489</th>\n",
       "      <td>Waka Flocka Flame</td>\n",
       "      <td>male</td>\n",
       "      <td>38.0</td>\n",
       "      <td>United States</td>\n",
       "    </tr>\n",
       "    <tr>\n",
       "      <th>490</th>\n",
       "      <td>Lou Bega</td>\n",
       "      <td>male</td>\n",
       "      <td>49.0</td>\n",
       "      <td>Germany</td>\n",
       "    </tr>\n",
       "    <tr>\n",
       "      <th>491</th>\n",
       "      <td>Chris Brown</td>\n",
       "      <td>male</td>\n",
       "      <td>35.0</td>\n",
       "      <td>United States</td>\n",
       "    </tr>\n",
       "  </tbody>\n",
       "</table>\n",
       "<p>492 rows × 4 columns</p>\n",
       "</div>"
      ]
     },
     "execution_count": 13,
     "metadata": {},
     "output_type": "execute_result"
    }
   ],
   "execution_count": 13
  },
  {
   "metadata": {
    "ExecuteTime": {
     "end_time": "2025-01-02T17:12:46.317623Z",
     "start_time": "2025-01-02T17:12:46.311087Z"
    }
   },
   "cell_type": "code",
   "source": "Artist_details.info()",
   "id": "df35b65888b4ec66",
   "outputs": [
    {
     "name": "stdout",
     "output_type": "stream",
     "text": [
      "<class 'pandas.core.frame.DataFrame'>\n",
      "RangeIndex: 492 entries, 0 to 491\n",
      "Data columns (total 4 columns):\n",
      " #   Column        Non-Null Count  Dtype  \n",
      "---  ------        --------------  -----  \n",
      " 0   artist_name   492 non-null    object \n",
      " 1   gender        492 non-null    object \n",
      " 2   age           492 non-null    float64\n",
      " 3   country_born  492 non-null    object \n",
      "dtypes: float64(1), object(3)\n",
      "memory usage: 15.5+ KB\n"
     ]
    }
   ],
   "execution_count": 14
  },
  {
   "metadata": {
    "ExecuteTime": {
     "end_time": "2025-01-02T17:12:46.389596Z",
     "start_time": "2025-01-02T17:12:46.384121Z"
    }
   },
   "cell_type": "code",
   "source": "Artist_details.describe()",
   "id": "723d32ae8dbcb9c9",
   "outputs": [
    {
     "data": {
      "text/plain": [
       "              age\n",
       "count  492.000000\n",
       "mean    36.215447\n",
       "std     11.861142\n",
       "min      4.000000\n",
       "25%     30.000000\n",
       "50%     36.000000\n",
       "75%     43.000000\n",
       "max     96.000000"
      ],
      "text/html": [
       "<div>\n",
       "<style scoped>\n",
       "    .dataframe tbody tr th:only-of-type {\n",
       "        vertical-align: middle;\n",
       "    }\n",
       "\n",
       "    .dataframe tbody tr th {\n",
       "        vertical-align: top;\n",
       "    }\n",
       "\n",
       "    .dataframe thead th {\n",
       "        text-align: right;\n",
       "    }\n",
       "</style>\n",
       "<table border=\"1\" class=\"dataframe\">\n",
       "  <thead>\n",
       "    <tr style=\"text-align: right;\">\n",
       "      <th></th>\n",
       "      <th>age</th>\n",
       "    </tr>\n",
       "  </thead>\n",
       "  <tbody>\n",
       "    <tr>\n",
       "      <th>count</th>\n",
       "      <td>492.000000</td>\n",
       "    </tr>\n",
       "    <tr>\n",
       "      <th>mean</th>\n",
       "      <td>36.215447</td>\n",
       "    </tr>\n",
       "    <tr>\n",
       "      <th>std</th>\n",
       "      <td>11.861142</td>\n",
       "    </tr>\n",
       "    <tr>\n",
       "      <th>min</th>\n",
       "      <td>4.000000</td>\n",
       "    </tr>\n",
       "    <tr>\n",
       "      <th>25%</th>\n",
       "      <td>30.000000</td>\n",
       "    </tr>\n",
       "    <tr>\n",
       "      <th>50%</th>\n",
       "      <td>36.000000</td>\n",
       "    </tr>\n",
       "    <tr>\n",
       "      <th>75%</th>\n",
       "      <td>43.000000</td>\n",
       "    </tr>\n",
       "    <tr>\n",
       "      <th>max</th>\n",
       "      <td>96.000000</td>\n",
       "    </tr>\n",
       "  </tbody>\n",
       "</table>\n",
       "</div>"
      ]
     },
     "execution_count": 15,
     "metadata": {},
     "output_type": "execute_result"
    }
   ],
   "execution_count": 15
  },
  {
   "metadata": {
    "ExecuteTime": {
     "end_time": "2025-01-02T17:12:46.430872Z",
     "start_time": "2025-01-02T17:12:46.426335Z"
    }
   },
   "cell_type": "code",
   "source": [
    "nome_correcoes = {\n",
    "    \"J Cole\": \"J. Cole\",\n",
    "    \"Aap Rocky\": \"A$AP Rocky\",\n",
    "    \"Gigi Dagostino\": \"Gigi D'Agostino\",\n",
    "    \"Machine Gun Kelly\": \"mgk\",\n",
    "    \"Tyler The Creator\": \"Tyler, The Creator\",\n",
    "    \"Dram\": \"DRAMA\",\n",
    "    \"Mr Probz\": \"Mr. Probz\",\n",
    "    \"Russ\": \"Russ Millions\",\n",
    "    \"Neyo\": \"Ne-Yo\",\n",
    "    \"Marc E Bassy\": \"Marc E. Bassy\",\n",
    "    \"Rob Tone\": \"Rob $tone\",\n",
    "    \"Ruth B\": \"Ruth B.\",\n",
    "    \"Mk\": \"Mk.gee\",\n",
    "    \"Ot Genasis\": \"O.T. Genasis\",\n",
    "    \"The Notorious Big\": \"The Notorious B.I.G.\",\n",
    "    \"Eo\": \"ÉoDan\",\n",
    "    \"Dr Dre\": \"Dr. Dre\",\n",
    "    \"Mia\": \"M.I.A.\",\n",
    "    \"Mary J Blige\": \"Mary J. Blige\",\n",
    "    \"Jojo\": \"Jojo's ASMR\",\n",
    "    \"pnk\": \"pnkcité\",\n",
    "    \"Geazy\": \"G-Eazy\",\n",
    "    \"Marina\": \"MARINA\",\n",
    "    \"Thedream\":\"The-Dream\",\n",
    "    \"Ti\":\"T.I.\",\n",
    "    \"Aap Ferg\":\"A$AP Ferg\",\n",
    "    \"Annemarie\":\"Anne-Marie\",\n",
    "    \"Blackbear\": \"blackbear\",\n",
    "    \"Iann Dior\": \"iann dior\",\n",
    "}\n",
    "\n",
    "# Atualiza os nomes no DataFrame\n",
    "Artist_details[\"artist_name\"] = Artist_details[\"artist_name\"].replace(nome_correcoes)"
   ],
   "id": "a19e00e1cff6f2fc",
   "outputs": [],
   "execution_count": 16
  },
  {
   "metadata": {},
   "cell_type": "markdown",
   "source": "### Api",
   "id": "43e977b84fde95c4"
  },
  {
   "cell_type": "code",
   "id": "47d2eb97",
   "metadata": {
    "ExecuteTime": {
     "end_time": "2025-01-02T17:15:21.233751Z",
     "start_time": "2025-01-02T17:12:46.477352Z"
    }
   },
   "source": [
    "# Demora, aproximadamente 0.26626 segundos por artista\n",
    "# Primeiro é necessário rodar o ficheiroi API_Spotify.py no src/data\n",
    "# Cuidado, é necessário apagar o ficheiro .cache deste diretório\n",
    "\n",
    "sp = spotipy.Spotify(auth_manager=SpotifyOAuth(\n",
    "    client_id=\"ca14c7679c394052af165d2168f3361f\",\n",
    "    client_secret=\"8b250ef320964c2a9197f5453f3c449d\",\n",
    "    redirect_uri=\"https://localhost:1234/callback\",\n",
    "    scope=\"user-library-read\",  # Definindo a scope necessária\n",
    "    requests_timeout=15))\n",
    "\n",
    "# Problemas:\n",
    "## PlayBoi Carti\n",
    "api.get_artist_details(Artist_details, 'artist_name', sp)\n",
    "Artist_details[Artist_details.isnull().any(axis=1)]"
   ],
   "outputs": [
    {
     "name": "stdout",
     "output_type": "stream",
     "text": [
      "Nome fornecido: Mø, Nome retornado pela API: Morad\n",
      "Nome fornecido: Pnk, Nome retornado pela API: pnkcité\n",
      "Nome fornecido: Miguel, Nome retornado pela API: Miguel Luz\n",
      "Nome fornecido: Sebastian Ingrosso, Nome retornado pela API: Axwell /\\ Ingrosso\n",
      "Nome fornecido: Nelly, Nome retornado pela API: Nelly Furtado\n",
      "Nome fornecido: Philip George, Nome retornado pela API: Philippe Entremont\n",
      "Nome fornecido: Bob, Nome retornado pela API: Bob Marley\n",
      "Nome fornecido: Bob, Nome retornado pela API: Bob Marley\n",
      "Nome fornecido: Miguel, Nome retornado pela API: Miguel Luz\n"
     ]
    },
    {
     "data": {
      "text/plain": [
       "            artist_name  gender   age    country_born               artist_id  \\\n",
       "71                   Mø  female  35.0         Denmark                   Morad   \n",
       "166                  Yg    male  34.0   United States  7iqXu8imQ1rePIk5Nx1ctV   \n",
       "175                 Pnk  female  44.0   United States                 pnkcité   \n",
       "196              Miguel    male  54.0   United States              Miguel Luz   \n",
       "311  Sebastian Ingrosso    male  41.0          Sweden      Axwell /\\ Ingrosso   \n",
       "320                 Zhu  female   4.0           China  2QHqarwkjOlx0HtV7KyEx9   \n",
       "321               Nelly    male  49.0   United States           Nelly Furtado   \n",
       "362               Tpain    male  38.0   United States  5Daf0heTiEznki7hU5GerJ   \n",
       "372       Philip George    male  31.0  United Kingdom      Philippe Entremont   \n",
       "398                 Bob    male  40.0   United States              Bob Marley   \n",
       "401                 Bob    male  40.0   United States              Bob Marley   \n",
       "487              Miguel    male  54.0   United States              Miguel Luz   \n",
       "\n",
       "     followers  popularity genres image_url  \n",
       "71         NaN         NaN   None      None  \n",
       "166        5.0         0.0             None  \n",
       "175        NaN         NaN   None      None  \n",
       "196        NaN         NaN   None      None  \n",
       "311        NaN         NaN   None      None  \n",
       "320        9.0         0.0             None  \n",
       "321        NaN         NaN   None      None  \n",
       "362        4.0         0.0             None  \n",
       "372        NaN         NaN   None      None  \n",
       "398        NaN         NaN   None      None  \n",
       "401        NaN         NaN   None      None  \n",
       "487        NaN         NaN   None      None  "
      ],
      "text/html": [
       "<div>\n",
       "<style scoped>\n",
       "    .dataframe tbody tr th:only-of-type {\n",
       "        vertical-align: middle;\n",
       "    }\n",
       "\n",
       "    .dataframe tbody tr th {\n",
       "        vertical-align: top;\n",
       "    }\n",
       "\n",
       "    .dataframe thead th {\n",
       "        text-align: right;\n",
       "    }\n",
       "</style>\n",
       "<table border=\"1\" class=\"dataframe\">\n",
       "  <thead>\n",
       "    <tr style=\"text-align: right;\">\n",
       "      <th></th>\n",
       "      <th>artist_name</th>\n",
       "      <th>gender</th>\n",
       "      <th>age</th>\n",
       "      <th>country_born</th>\n",
       "      <th>artist_id</th>\n",
       "      <th>followers</th>\n",
       "      <th>popularity</th>\n",
       "      <th>genres</th>\n",
       "      <th>image_url</th>\n",
       "    </tr>\n",
       "  </thead>\n",
       "  <tbody>\n",
       "    <tr>\n",
       "      <th>71</th>\n",
       "      <td>Mø</td>\n",
       "      <td>female</td>\n",
       "      <td>35.0</td>\n",
       "      <td>Denmark</td>\n",
       "      <td>Morad</td>\n",
       "      <td>NaN</td>\n",
       "      <td>NaN</td>\n",
       "      <td>None</td>\n",
       "      <td>None</td>\n",
       "    </tr>\n",
       "    <tr>\n",
       "      <th>166</th>\n",
       "      <td>Yg</td>\n",
       "      <td>male</td>\n",
       "      <td>34.0</td>\n",
       "      <td>United States</td>\n",
       "      <td>7iqXu8imQ1rePIk5Nx1ctV</td>\n",
       "      <td>5.0</td>\n",
       "      <td>0.0</td>\n",
       "      <td></td>\n",
       "      <td>None</td>\n",
       "    </tr>\n",
       "    <tr>\n",
       "      <th>175</th>\n",
       "      <td>Pnk</td>\n",
       "      <td>female</td>\n",
       "      <td>44.0</td>\n",
       "      <td>United States</td>\n",
       "      <td>pnkcité</td>\n",
       "      <td>NaN</td>\n",
       "      <td>NaN</td>\n",
       "      <td>None</td>\n",
       "      <td>None</td>\n",
       "    </tr>\n",
       "    <tr>\n",
       "      <th>196</th>\n",
       "      <td>Miguel</td>\n",
       "      <td>male</td>\n",
       "      <td>54.0</td>\n",
       "      <td>United States</td>\n",
       "      <td>Miguel Luz</td>\n",
       "      <td>NaN</td>\n",
       "      <td>NaN</td>\n",
       "      <td>None</td>\n",
       "      <td>None</td>\n",
       "    </tr>\n",
       "    <tr>\n",
       "      <th>311</th>\n",
       "      <td>Sebastian Ingrosso</td>\n",
       "      <td>male</td>\n",
       "      <td>41.0</td>\n",
       "      <td>Sweden</td>\n",
       "      <td>Axwell /\\ Ingrosso</td>\n",
       "      <td>NaN</td>\n",
       "      <td>NaN</td>\n",
       "      <td>None</td>\n",
       "      <td>None</td>\n",
       "    </tr>\n",
       "    <tr>\n",
       "      <th>320</th>\n",
       "      <td>Zhu</td>\n",
       "      <td>female</td>\n",
       "      <td>4.0</td>\n",
       "      <td>China</td>\n",
       "      <td>2QHqarwkjOlx0HtV7KyEx9</td>\n",
       "      <td>9.0</td>\n",
       "      <td>0.0</td>\n",
       "      <td></td>\n",
       "      <td>None</td>\n",
       "    </tr>\n",
       "    <tr>\n",
       "      <th>321</th>\n",
       "      <td>Nelly</td>\n",
       "      <td>male</td>\n",
       "      <td>49.0</td>\n",
       "      <td>United States</td>\n",
       "      <td>Nelly Furtado</td>\n",
       "      <td>NaN</td>\n",
       "      <td>NaN</td>\n",
       "      <td>None</td>\n",
       "      <td>None</td>\n",
       "    </tr>\n",
       "    <tr>\n",
       "      <th>362</th>\n",
       "      <td>Tpain</td>\n",
       "      <td>male</td>\n",
       "      <td>38.0</td>\n",
       "      <td>United States</td>\n",
       "      <td>5Daf0heTiEznki7hU5GerJ</td>\n",
       "      <td>4.0</td>\n",
       "      <td>0.0</td>\n",
       "      <td></td>\n",
       "      <td>None</td>\n",
       "    </tr>\n",
       "    <tr>\n",
       "      <th>372</th>\n",
       "      <td>Philip George</td>\n",
       "      <td>male</td>\n",
       "      <td>31.0</td>\n",
       "      <td>United Kingdom</td>\n",
       "      <td>Philippe Entremont</td>\n",
       "      <td>NaN</td>\n",
       "      <td>NaN</td>\n",
       "      <td>None</td>\n",
       "      <td>None</td>\n",
       "    </tr>\n",
       "    <tr>\n",
       "      <th>398</th>\n",
       "      <td>Bob</td>\n",
       "      <td>male</td>\n",
       "      <td>40.0</td>\n",
       "      <td>United States</td>\n",
       "      <td>Bob Marley</td>\n",
       "      <td>NaN</td>\n",
       "      <td>NaN</td>\n",
       "      <td>None</td>\n",
       "      <td>None</td>\n",
       "    </tr>\n",
       "    <tr>\n",
       "      <th>401</th>\n",
       "      <td>Bob</td>\n",
       "      <td>male</td>\n",
       "      <td>40.0</td>\n",
       "      <td>United States</td>\n",
       "      <td>Bob Marley</td>\n",
       "      <td>NaN</td>\n",
       "      <td>NaN</td>\n",
       "      <td>None</td>\n",
       "      <td>None</td>\n",
       "    </tr>\n",
       "    <tr>\n",
       "      <th>487</th>\n",
       "      <td>Miguel</td>\n",
       "      <td>male</td>\n",
       "      <td>54.0</td>\n",
       "      <td>United States</td>\n",
       "      <td>Miguel Luz</td>\n",
       "      <td>NaN</td>\n",
       "      <td>NaN</td>\n",
       "      <td>None</td>\n",
       "      <td>None</td>\n",
       "    </tr>\n",
       "  </tbody>\n",
       "</table>\n",
       "</div>"
      ]
     },
     "execution_count": 17,
     "metadata": {},
     "output_type": "execute_result"
    }
   ],
   "execution_count": 17
  },
  {
   "metadata": {
    "ExecuteTime": {
     "end_time": "2025-01-02T17:15:21.285078Z",
     "start_time": "2025-01-02T17:15:21.273622Z"
    }
   },
   "cell_type": "code",
   "source": [
    "Artist_details.dropna(inplace=True)\n",
    "Artist_details.dropna(subset=['genres'], inplace=True)\n",
    "Artist_details.drop_duplicates(inplace=True)\n",
    "\n",
    "processed_data = data_dir / 'processed'\n",
    "if not os.path.exists(processed_data):\n",
    "    os.makedirs(processed_data)\n",
    "Artist_details.to_csv(processed_data / 'artist_details.csv', index=False)\n",
    "Artist_details"
   ],
   "id": "db37bf0111250c47",
   "outputs": [
    {
     "data": {
      "text/plain": [
       "            artist_name gender   age    country_born               artist_id  \\\n",
       "0                 Drake   male  37.0          Canada  3TVXtAsR1Inumwj472S9r4   \n",
       "1           Post Malone   male  29.0   United States  246dkjvS1zLTtiykXe5h60   \n",
       "2            Ed Sheeran   male  33.0  United Kingdom  6eUKZXaKkcviH0Ku9w2n3V   \n",
       "3              J Balvin   male  39.0        Colombia  1vyhD5VmyZ7KMfW5gqLgo5   \n",
       "4             Bad Bunny   male  30.0     Puerto Rico  4q3ewBCX7sLwd24euuV69X   \n",
       "..                  ...    ...   ...             ...                     ...   \n",
       "485       Lenny Kravitz   male  60.0   United States  5gznATMVO85ZcLTkE9ULU7   \n",
       "486  Daniel Bedingfield   male  44.0  United Kingdom  11hIqBsGRPztdjBHCSLClX   \n",
       "488               Sisqo   male  45.0   United States  6x9QLdzo6eBZxJ1bHsDkjg   \n",
       "489   Waka Flocka Flame   male  38.0   United States  6f4XkbvYlXMH0QgVRzW0sM   \n",
       "490            Lou Bega   male  49.0         Germany  46lnlnlU0dXTDpoAUmH6Qx   \n",
       "\n",
       "       followers  popularity  \\\n",
       "0     94896586.0        97.0   \n",
       "1     46197705.0        91.0   \n",
       "2    118283385.0        90.0   \n",
       "3     37649707.0        88.0   \n",
       "4     88433615.0        96.0   \n",
       "..           ...         ...   \n",
       "485    3427889.0        74.0   \n",
       "486     225333.0        55.0   \n",
       "488    1099676.0        60.0   \n",
       "489    2744219.0        68.0   \n",
       "490     142879.0        62.0   \n",
       "\n",
       "                                                genres  \\\n",
       "0    canadian hip hop, canadian pop, hip hop, pop r...   \n",
       "1                       dfw rap, melodic rap, pop, rap   \n",
       "2                   pop, singer-songwriter pop, uk pop   \n",
       "3    reggaeton, reggaeton colombiano, trap latino, ...   \n",
       "4                reggaeton, trap latino, urbano latino   \n",
       "..                                                 ...   \n",
       "485                               permanent wave, rock   \n",
       "486                               europop, talent show   \n",
       "488  contemporary r&b, hip pop, r&b, urban contempo...   \n",
       "489  atl hip hop, dirty south rap, pop rap, rap, so...   \n",
       "490                                          latin pop   \n",
       "\n",
       "                                             image_url  \n",
       "0    https://i.scdn.co/image/ab6761610000e5eb429338...  \n",
       "1    https://i.scdn.co/image/ab6761610000e5ebe17c0a...  \n",
       "2    https://i.scdn.co/image/ab6761610000e5eb784daf...  \n",
       "3    https://i.scdn.co/image/ab6761610000e5ebdea087...  \n",
       "4    https://i.scdn.co/image/ab6761610000e5eb744a42...  \n",
       "..                                                 ...  \n",
       "485  https://i.scdn.co/image/ab6761610000e5ebe0cf05...  \n",
       "486  https://i.scdn.co/image/411b4430f842fca92fedf7...  \n",
       "488  https://i.scdn.co/image/65c4f2d897d65c2236ddc7...  \n",
       "489  https://i.scdn.co/image/ab6761610000e5eb098d90...  \n",
       "490  https://i.scdn.co/image/ab6761610000e5ebcbe7dd...  \n",
       "\n",
       "[468 rows x 9 columns]"
      ],
      "text/html": [
       "<div>\n",
       "<style scoped>\n",
       "    .dataframe tbody tr th:only-of-type {\n",
       "        vertical-align: middle;\n",
       "    }\n",
       "\n",
       "    .dataframe tbody tr th {\n",
       "        vertical-align: top;\n",
       "    }\n",
       "\n",
       "    .dataframe thead th {\n",
       "        text-align: right;\n",
       "    }\n",
       "</style>\n",
       "<table border=\"1\" class=\"dataframe\">\n",
       "  <thead>\n",
       "    <tr style=\"text-align: right;\">\n",
       "      <th></th>\n",
       "      <th>artist_name</th>\n",
       "      <th>gender</th>\n",
       "      <th>age</th>\n",
       "      <th>country_born</th>\n",
       "      <th>artist_id</th>\n",
       "      <th>followers</th>\n",
       "      <th>popularity</th>\n",
       "      <th>genres</th>\n",
       "      <th>image_url</th>\n",
       "    </tr>\n",
       "  </thead>\n",
       "  <tbody>\n",
       "    <tr>\n",
       "      <th>0</th>\n",
       "      <td>Drake</td>\n",
       "      <td>male</td>\n",
       "      <td>37.0</td>\n",
       "      <td>Canada</td>\n",
       "      <td>3TVXtAsR1Inumwj472S9r4</td>\n",
       "      <td>94896586.0</td>\n",
       "      <td>97.0</td>\n",
       "      <td>canadian hip hop, canadian pop, hip hop, pop r...</td>\n",
       "      <td>https://i.scdn.co/image/ab6761610000e5eb429338...</td>\n",
       "    </tr>\n",
       "    <tr>\n",
       "      <th>1</th>\n",
       "      <td>Post Malone</td>\n",
       "      <td>male</td>\n",
       "      <td>29.0</td>\n",
       "      <td>United States</td>\n",
       "      <td>246dkjvS1zLTtiykXe5h60</td>\n",
       "      <td>46197705.0</td>\n",
       "      <td>91.0</td>\n",
       "      <td>dfw rap, melodic rap, pop, rap</td>\n",
       "      <td>https://i.scdn.co/image/ab6761610000e5ebe17c0a...</td>\n",
       "    </tr>\n",
       "    <tr>\n",
       "      <th>2</th>\n",
       "      <td>Ed Sheeran</td>\n",
       "      <td>male</td>\n",
       "      <td>33.0</td>\n",
       "      <td>United Kingdom</td>\n",
       "      <td>6eUKZXaKkcviH0Ku9w2n3V</td>\n",
       "      <td>118283385.0</td>\n",
       "      <td>90.0</td>\n",
       "      <td>pop, singer-songwriter pop, uk pop</td>\n",
       "      <td>https://i.scdn.co/image/ab6761610000e5eb784daf...</td>\n",
       "    </tr>\n",
       "    <tr>\n",
       "      <th>3</th>\n",
       "      <td>J Balvin</td>\n",
       "      <td>male</td>\n",
       "      <td>39.0</td>\n",
       "      <td>Colombia</td>\n",
       "      <td>1vyhD5VmyZ7KMfW5gqLgo5</td>\n",
       "      <td>37649707.0</td>\n",
       "      <td>88.0</td>\n",
       "      <td>reggaeton, reggaeton colombiano, trap latino, ...</td>\n",
       "      <td>https://i.scdn.co/image/ab6761610000e5ebdea087...</td>\n",
       "    </tr>\n",
       "    <tr>\n",
       "      <th>4</th>\n",
       "      <td>Bad Bunny</td>\n",
       "      <td>male</td>\n",
       "      <td>30.0</td>\n",
       "      <td>Puerto Rico</td>\n",
       "      <td>4q3ewBCX7sLwd24euuV69X</td>\n",
       "      <td>88433615.0</td>\n",
       "      <td>96.0</td>\n",
       "      <td>reggaeton, trap latino, urbano latino</td>\n",
       "      <td>https://i.scdn.co/image/ab6761610000e5eb744a42...</td>\n",
       "    </tr>\n",
       "    <tr>\n",
       "      <th>...</th>\n",
       "      <td>...</td>\n",
       "      <td>...</td>\n",
       "      <td>...</td>\n",
       "      <td>...</td>\n",
       "      <td>...</td>\n",
       "      <td>...</td>\n",
       "      <td>...</td>\n",
       "      <td>...</td>\n",
       "      <td>...</td>\n",
       "    </tr>\n",
       "    <tr>\n",
       "      <th>485</th>\n",
       "      <td>Lenny Kravitz</td>\n",
       "      <td>male</td>\n",
       "      <td>60.0</td>\n",
       "      <td>United States</td>\n",
       "      <td>5gznATMVO85ZcLTkE9ULU7</td>\n",
       "      <td>3427889.0</td>\n",
       "      <td>74.0</td>\n",
       "      <td>permanent wave, rock</td>\n",
       "      <td>https://i.scdn.co/image/ab6761610000e5ebe0cf05...</td>\n",
       "    </tr>\n",
       "    <tr>\n",
       "      <th>486</th>\n",
       "      <td>Daniel Bedingfield</td>\n",
       "      <td>male</td>\n",
       "      <td>44.0</td>\n",
       "      <td>United Kingdom</td>\n",
       "      <td>11hIqBsGRPztdjBHCSLClX</td>\n",
       "      <td>225333.0</td>\n",
       "      <td>55.0</td>\n",
       "      <td>europop, talent show</td>\n",
       "      <td>https://i.scdn.co/image/411b4430f842fca92fedf7...</td>\n",
       "    </tr>\n",
       "    <tr>\n",
       "      <th>488</th>\n",
       "      <td>Sisqo</td>\n",
       "      <td>male</td>\n",
       "      <td>45.0</td>\n",
       "      <td>United States</td>\n",
       "      <td>6x9QLdzo6eBZxJ1bHsDkjg</td>\n",
       "      <td>1099676.0</td>\n",
       "      <td>60.0</td>\n",
       "      <td>contemporary r&amp;b, hip pop, r&amp;b, urban contempo...</td>\n",
       "      <td>https://i.scdn.co/image/65c4f2d897d65c2236ddc7...</td>\n",
       "    </tr>\n",
       "    <tr>\n",
       "      <th>489</th>\n",
       "      <td>Waka Flocka Flame</td>\n",
       "      <td>male</td>\n",
       "      <td>38.0</td>\n",
       "      <td>United States</td>\n",
       "      <td>6f4XkbvYlXMH0QgVRzW0sM</td>\n",
       "      <td>2744219.0</td>\n",
       "      <td>68.0</td>\n",
       "      <td>atl hip hop, dirty south rap, pop rap, rap, so...</td>\n",
       "      <td>https://i.scdn.co/image/ab6761610000e5eb098d90...</td>\n",
       "    </tr>\n",
       "    <tr>\n",
       "      <th>490</th>\n",
       "      <td>Lou Bega</td>\n",
       "      <td>male</td>\n",
       "      <td>49.0</td>\n",
       "      <td>Germany</td>\n",
       "      <td>46lnlnlU0dXTDpoAUmH6Qx</td>\n",
       "      <td>142879.0</td>\n",
       "      <td>62.0</td>\n",
       "      <td>latin pop</td>\n",
       "      <td>https://i.scdn.co/image/ab6761610000e5ebcbe7dd...</td>\n",
       "    </tr>\n",
       "  </tbody>\n",
       "</table>\n",
       "<p>468 rows × 9 columns</p>\n",
       "</div>"
      ]
     },
     "execution_count": 18,
     "metadata": {},
     "output_type": "execute_result"
    }
   ],
   "execution_count": 18
  },
  {
   "cell_type": "markdown",
   "id": "3e3092b292e716e1",
   "metadata": {},
   "source": "## Popular Individual Tracks"
  },
  {
   "cell_type": "code",
   "id": "1ceacc9113ae04b4",
   "metadata": {
    "ExecuteTime": {
     "end_time": "2025-01-02T17:15:21.331613Z",
     "start_time": "2025-01-02T17:15:21.326488Z"
    }
   },
   "source": [
    "tracks = Artist_details[[\"artist_id\", \"artist_name\"]]\n",
    "tracks"
   ],
   "outputs": [
    {
     "data": {
      "text/plain": [
       "                  artist_id         artist_name\n",
       "0    3TVXtAsR1Inumwj472S9r4               Drake\n",
       "1    246dkjvS1zLTtiykXe5h60         Post Malone\n",
       "2    6eUKZXaKkcviH0Ku9w2n3V          Ed Sheeran\n",
       "3    1vyhD5VmyZ7KMfW5gqLgo5            J Balvin\n",
       "4    4q3ewBCX7sLwd24euuV69X           Bad Bunny\n",
       "..                      ...                 ...\n",
       "485  5gznATMVO85ZcLTkE9ULU7       Lenny Kravitz\n",
       "486  11hIqBsGRPztdjBHCSLClX  Daniel Bedingfield\n",
       "488  6x9QLdzo6eBZxJ1bHsDkjg               Sisqo\n",
       "489  6f4XkbvYlXMH0QgVRzW0sM   Waka Flocka Flame\n",
       "490  46lnlnlU0dXTDpoAUmH6Qx            Lou Bega\n",
       "\n",
       "[468 rows x 2 columns]"
      ],
      "text/html": [
       "<div>\n",
       "<style scoped>\n",
       "    .dataframe tbody tr th:only-of-type {\n",
       "        vertical-align: middle;\n",
       "    }\n",
       "\n",
       "    .dataframe tbody tr th {\n",
       "        vertical-align: top;\n",
       "    }\n",
       "\n",
       "    .dataframe thead th {\n",
       "        text-align: right;\n",
       "    }\n",
       "</style>\n",
       "<table border=\"1\" class=\"dataframe\">\n",
       "  <thead>\n",
       "    <tr style=\"text-align: right;\">\n",
       "      <th></th>\n",
       "      <th>artist_id</th>\n",
       "      <th>artist_name</th>\n",
       "    </tr>\n",
       "  </thead>\n",
       "  <tbody>\n",
       "    <tr>\n",
       "      <th>0</th>\n",
       "      <td>3TVXtAsR1Inumwj472S9r4</td>\n",
       "      <td>Drake</td>\n",
       "    </tr>\n",
       "    <tr>\n",
       "      <th>1</th>\n",
       "      <td>246dkjvS1zLTtiykXe5h60</td>\n",
       "      <td>Post Malone</td>\n",
       "    </tr>\n",
       "    <tr>\n",
       "      <th>2</th>\n",
       "      <td>6eUKZXaKkcviH0Ku9w2n3V</td>\n",
       "      <td>Ed Sheeran</td>\n",
       "    </tr>\n",
       "    <tr>\n",
       "      <th>3</th>\n",
       "      <td>1vyhD5VmyZ7KMfW5gqLgo5</td>\n",
       "      <td>J Balvin</td>\n",
       "    </tr>\n",
       "    <tr>\n",
       "      <th>4</th>\n",
       "      <td>4q3ewBCX7sLwd24euuV69X</td>\n",
       "      <td>Bad Bunny</td>\n",
       "    </tr>\n",
       "    <tr>\n",
       "      <th>...</th>\n",
       "      <td>...</td>\n",
       "      <td>...</td>\n",
       "    </tr>\n",
       "    <tr>\n",
       "      <th>485</th>\n",
       "      <td>5gznATMVO85ZcLTkE9ULU7</td>\n",
       "      <td>Lenny Kravitz</td>\n",
       "    </tr>\n",
       "    <tr>\n",
       "      <th>486</th>\n",
       "      <td>11hIqBsGRPztdjBHCSLClX</td>\n",
       "      <td>Daniel Bedingfield</td>\n",
       "    </tr>\n",
       "    <tr>\n",
       "      <th>488</th>\n",
       "      <td>6x9QLdzo6eBZxJ1bHsDkjg</td>\n",
       "      <td>Sisqo</td>\n",
       "    </tr>\n",
       "    <tr>\n",
       "      <th>489</th>\n",
       "      <td>6f4XkbvYlXMH0QgVRzW0sM</td>\n",
       "      <td>Waka Flocka Flame</td>\n",
       "    </tr>\n",
       "    <tr>\n",
       "      <th>490</th>\n",
       "      <td>46lnlnlU0dXTDpoAUmH6Qx</td>\n",
       "      <td>Lou Bega</td>\n",
       "    </tr>\n",
       "  </tbody>\n",
       "</table>\n",
       "<p>468 rows × 2 columns</p>\n",
       "</div>"
      ]
     },
     "execution_count": 19,
     "metadata": {},
     "output_type": "execute_result"
    }
   ],
   "execution_count": 19
  },
  {
   "metadata": {
    "ExecuteTime": {
     "end_time": "2025-01-02T17:15:21.391577Z",
     "start_time": "2025-01-02T17:15:21.387009Z"
    }
   },
   "cell_type": "code",
   "source": [
    "teste = tracks.head()\n",
    "teste"
   ],
   "id": "6dd674b1e9fd46f7",
   "outputs": [
    {
     "data": {
      "text/plain": [
       "                artist_id  artist_name\n",
       "0  3TVXtAsR1Inumwj472S9r4        Drake\n",
       "1  246dkjvS1zLTtiykXe5h60  Post Malone\n",
       "2  6eUKZXaKkcviH0Ku9w2n3V   Ed Sheeran\n",
       "3  1vyhD5VmyZ7KMfW5gqLgo5     J Balvin\n",
       "4  4q3ewBCX7sLwd24euuV69X    Bad Bunny"
      ],
      "text/html": [
       "<div>\n",
       "<style scoped>\n",
       "    .dataframe tbody tr th:only-of-type {\n",
       "        vertical-align: middle;\n",
       "    }\n",
       "\n",
       "    .dataframe tbody tr th {\n",
       "        vertical-align: top;\n",
       "    }\n",
       "\n",
       "    .dataframe thead th {\n",
       "        text-align: right;\n",
       "    }\n",
       "</style>\n",
       "<table border=\"1\" class=\"dataframe\">\n",
       "  <thead>\n",
       "    <tr style=\"text-align: right;\">\n",
       "      <th></th>\n",
       "      <th>artist_id</th>\n",
       "      <th>artist_name</th>\n",
       "    </tr>\n",
       "  </thead>\n",
       "  <tbody>\n",
       "    <tr>\n",
       "      <th>0</th>\n",
       "      <td>3TVXtAsR1Inumwj472S9r4</td>\n",
       "      <td>Drake</td>\n",
       "    </tr>\n",
       "    <tr>\n",
       "      <th>1</th>\n",
       "      <td>246dkjvS1zLTtiykXe5h60</td>\n",
       "      <td>Post Malone</td>\n",
       "    </tr>\n",
       "    <tr>\n",
       "      <th>2</th>\n",
       "      <td>6eUKZXaKkcviH0Ku9w2n3V</td>\n",
       "      <td>Ed Sheeran</td>\n",
       "    </tr>\n",
       "    <tr>\n",
       "      <th>3</th>\n",
       "      <td>1vyhD5VmyZ7KMfW5gqLgo5</td>\n",
       "      <td>J Balvin</td>\n",
       "    </tr>\n",
       "    <tr>\n",
       "      <th>4</th>\n",
       "      <td>4q3ewBCX7sLwd24euuV69X</td>\n",
       "      <td>Bad Bunny</td>\n",
       "    </tr>\n",
       "  </tbody>\n",
       "</table>\n",
       "</div>"
      ]
     },
     "execution_count": 20,
     "metadata": {},
     "output_type": "execute_result"
    }
   ],
   "execution_count": 20
  },
  {
   "cell_type": "code",
   "id": "89d8507efb7d8087",
   "metadata": {
    "ExecuteTime": {
     "end_time": "2025-01-02T17:18:00.151282Z",
     "start_time": "2025-01-02T17:15:21.434887Z"
    }
   },
   "source": "tracks_with_features = api.get_artist_tracks(teste, sp)",
   "outputs": [
    {
     "name": "stdout",
     "output_type": "stream",
     "text": [
      "Processando artista Drake (1/5)\n"
     ]
    },
    {
     "name": "stderr",
     "output_type": "stream",
     "text": [
      "HTTP Error for GET to https://api.spotify.com/v1/audio-features/?ids=1zi7xx7UVEFkmKfv06H8x0 with Params: {} returned 403 due to None\n"
     ]
    },
    {
     "name": "stdout",
     "output_type": "stream",
     "text": [
      "Erro: http status: 403, code:-1 - https://api.spotify.com/v1/audio-features/?ids=1zi7xx7UVEFkmKfv06H8x0:\n",
      " None, reason: None. Tentativa 1 de 3\n"
     ]
    },
    {
     "name": "stderr",
     "output_type": "stream",
     "text": [
      "HTTP Error for GET to https://api.spotify.com/v1/audio-features/?ids=1zi7xx7UVEFkmKfv06H8x0 with Params: {} returned 403 due to None\n"
     ]
    },
    {
     "name": "stdout",
     "output_type": "stream",
     "text": [
      "Erro: http status: 403, code:-1 - https://api.spotify.com/v1/audio-features/?ids=1zi7xx7UVEFkmKfv06H8x0:\n",
      " None, reason: None. Tentativa 2 de 3\n"
     ]
    },
    {
     "name": "stderr",
     "output_type": "stream",
     "text": [
      "HTTP Error for GET to https://api.spotify.com/v1/audio-features/?ids=1zi7xx7UVEFkmKfv06H8x0 with Params: {} returned 403 due to None\n"
     ]
    },
    {
     "name": "stdout",
     "output_type": "stream",
     "text": [
      "Erro: http status: 403, code:-1 - https://api.spotify.com/v1/audio-features/?ids=1zi7xx7UVEFkmKfv06H8x0:\n",
      " None, reason: None. Tentativa 3 de 3\n"
     ]
    },
    {
     "name": "stderr",
     "output_type": "stream",
     "text": [
      "HTTP Error for GET to https://api.spotify.com/v1/audio-features/?ids=59nOXPmaKlBfGMDeOVGrIK with Params: {} returned 403 due to None\n"
     ]
    },
    {
     "name": "stdout",
     "output_type": "stream",
     "text": [
      "Falha após múltiplas tentativas.\n",
      "Erro: http status: 403, code:-1 - https://api.spotify.com/v1/audio-features/?ids=59nOXPmaKlBfGMDeOVGrIK:\n",
      " None, reason: None. Tentativa 1 de 3\n"
     ]
    },
    {
     "name": "stderr",
     "output_type": "stream",
     "text": [
      "HTTP Error for GET to https://api.spotify.com/v1/audio-features/?ids=59nOXPmaKlBfGMDeOVGrIK with Params: {} returned 403 due to None\n"
     ]
    },
    {
     "name": "stdout",
     "output_type": "stream",
     "text": [
      "Erro: http status: 403, code:-1 - https://api.spotify.com/v1/audio-features/?ids=59nOXPmaKlBfGMDeOVGrIK:\n",
      " None, reason: None. Tentativa 2 de 3\n"
     ]
    },
    {
     "name": "stderr",
     "output_type": "stream",
     "text": [
      "HTTP Error for GET to https://api.spotify.com/v1/audio-features/?ids=59nOXPmaKlBfGMDeOVGrIK with Params: {} returned 403 due to None\n"
     ]
    },
    {
     "name": "stdout",
     "output_type": "stream",
     "text": [
      "Erro: http status: 403, code:-1 - https://api.spotify.com/v1/audio-features/?ids=59nOXPmaKlBfGMDeOVGrIK:\n",
      " None, reason: None. Tentativa 3 de 3\n"
     ]
    },
    {
     "name": "stderr",
     "output_type": "stream",
     "text": [
      "HTTP Error for GET to https://api.spotify.com/v1/audio-features/?ids=6DCZcSspjsKoFjzjrWoCdn with Params: {} returned 403 due to None\n"
     ]
    },
    {
     "name": "stdout",
     "output_type": "stream",
     "text": [
      "Falha após múltiplas tentativas.\n",
      "Erro: http status: 403, code:-1 - https://api.spotify.com/v1/audio-features/?ids=6DCZcSspjsKoFjzjrWoCdn:\n",
      " None, reason: None. Tentativa 1 de 3\n"
     ]
    },
    {
     "name": "stderr",
     "output_type": "stream",
     "text": [
      "HTTP Error for GET to https://api.spotify.com/v1/audio-features/?ids=6DCZcSspjsKoFjzjrWoCdn with Params: {} returned 403 due to None\n"
     ]
    },
    {
     "name": "stdout",
     "output_type": "stream",
     "text": [
      "Erro: http status: 403, code:-1 - https://api.spotify.com/v1/audio-features/?ids=6DCZcSspjsKoFjzjrWoCdn:\n",
      " None, reason: None. Tentativa 2 de 3\n"
     ]
    },
    {
     "name": "stderr",
     "output_type": "stream",
     "text": [
      "HTTP Error for GET to https://api.spotify.com/v1/audio-features/?ids=6DCZcSspjsKoFjzjrWoCdn with Params: {} returned 403 due to None\n"
     ]
    },
    {
     "name": "stdout",
     "output_type": "stream",
     "text": [
      "Erro: http status: 403, code:-1 - https://api.spotify.com/v1/audio-features/?ids=6DCZcSspjsKoFjzjrWoCdn:\n",
      " None, reason: None. Tentativa 3 de 3\n"
     ]
    },
    {
     "name": "stderr",
     "output_type": "stream",
     "text": [
      "HTTP Error for GET to https://api.spotify.com/v1/audio-features/?ids=5mCPDVBb16L4XQwDdbRUpz with Params: {} returned 403 due to None\n"
     ]
    },
    {
     "name": "stdout",
     "output_type": "stream",
     "text": [
      "Falha após múltiplas tentativas.\n",
      "Erro: http status: 403, code:-1 - https://api.spotify.com/v1/audio-features/?ids=5mCPDVBb16L4XQwDdbRUpz:\n",
      " None, reason: None. Tentativa 1 de 3\n"
     ]
    },
    {
     "name": "stderr",
     "output_type": "stream",
     "text": [
      "HTTP Error for GET to https://api.spotify.com/v1/audio-features/?ids=5mCPDVBb16L4XQwDdbRUpz with Params: {} returned 403 due to None\n"
     ]
    },
    {
     "name": "stdout",
     "output_type": "stream",
     "text": [
      "Erro: http status: 403, code:-1 - https://api.spotify.com/v1/audio-features/?ids=5mCPDVBb16L4XQwDdbRUpz:\n",
      " None, reason: None. Tentativa 2 de 3\n"
     ]
    },
    {
     "name": "stderr",
     "output_type": "stream",
     "text": [
      "HTTP Error for GET to https://api.spotify.com/v1/audio-features/?ids=5mCPDVBb16L4XQwDdbRUpz with Params: {} returned 403 due to None\n"
     ]
    },
    {
     "name": "stdout",
     "output_type": "stream",
     "text": [
      "Erro: http status: 403, code:-1 - https://api.spotify.com/v1/audio-features/?ids=5mCPDVBb16L4XQwDdbRUpz:\n",
      " None, reason: None. Tentativa 3 de 3\n"
     ]
    },
    {
     "name": "stderr",
     "output_type": "stream",
     "text": [
      "HTTP Error for GET to https://api.spotify.com/v1/audio-features/?ids=3F5CgOj3wFlRv51JsHbxhe with Params: {} returned 403 due to None\n"
     ]
    },
    {
     "name": "stdout",
     "output_type": "stream",
     "text": [
      "Falha após múltiplas tentativas.\n",
      "Erro: http status: 403, code:-1 - https://api.spotify.com/v1/audio-features/?ids=3F5CgOj3wFlRv51JsHbxhe:\n",
      " None, reason: None. Tentativa 1 de 3\n"
     ]
    },
    {
     "name": "stderr",
     "output_type": "stream",
     "text": [
      "HTTP Error for GET to https://api.spotify.com/v1/audio-features/?ids=3F5CgOj3wFlRv51JsHbxhe with Params: {} returned 403 due to None\n"
     ]
    },
    {
     "name": "stdout",
     "output_type": "stream",
     "text": [
      "Erro: http status: 403, code:-1 - https://api.spotify.com/v1/audio-features/?ids=3F5CgOj3wFlRv51JsHbxhe:\n",
      " None, reason: None. Tentativa 2 de 3\n"
     ]
    },
    {
     "name": "stderr",
     "output_type": "stream",
     "text": [
      "HTTP Error for GET to https://api.spotify.com/v1/audio-features/?ids=3F5CgOj3wFlRv51JsHbxhe with Params: {} returned 403 due to None\n"
     ]
    },
    {
     "name": "stdout",
     "output_type": "stream",
     "text": [
      "Erro: http status: 403, code:-1 - https://api.spotify.com/v1/audio-features/?ids=3F5CgOj3wFlRv51JsHbxhe:\n",
      " None, reason: None. Tentativa 3 de 3\n"
     ]
    },
    {
     "name": "stderr",
     "output_type": "stream",
     "text": [
      "HTTP Error for GET to https://api.spotify.com/v1/audio-features/?ids=1yeB8MUNeLo9Ek1UEpsyz6 with Params: {} returned 403 due to None\n"
     ]
    },
    {
     "name": "stdout",
     "output_type": "stream",
     "text": [
      "Falha após múltiplas tentativas.\n",
      "Erro: http status: 403, code:-1 - https://api.spotify.com/v1/audio-features/?ids=1yeB8MUNeLo9Ek1UEpsyz6:\n",
      " None, reason: None. Tentativa 1 de 3\n"
     ]
    },
    {
     "name": "stderr",
     "output_type": "stream",
     "text": [
      "HTTP Error for GET to https://api.spotify.com/v1/audio-features/?ids=1yeB8MUNeLo9Ek1UEpsyz6 with Params: {} returned 403 due to None\n"
     ]
    },
    {
     "name": "stdout",
     "output_type": "stream",
     "text": [
      "Erro: http status: 403, code:-1 - https://api.spotify.com/v1/audio-features/?ids=1yeB8MUNeLo9Ek1UEpsyz6:\n",
      " None, reason: None. Tentativa 2 de 3\n"
     ]
    },
    {
     "name": "stderr",
     "output_type": "stream",
     "text": [
      "HTTP Error for GET to https://api.spotify.com/v1/audio-features/?ids=1yeB8MUNeLo9Ek1UEpsyz6 with Params: {} returned 403 due to None\n"
     ]
    },
    {
     "name": "stdout",
     "output_type": "stream",
     "text": [
      "Erro: http status: 403, code:-1 - https://api.spotify.com/v1/audio-features/?ids=1yeB8MUNeLo9Ek1UEpsyz6:\n",
      " None, reason: None. Tentativa 3 de 3\n"
     ]
    },
    {
     "name": "stderr",
     "output_type": "stream",
     "text": [
      "HTTP Error for GET to https://api.spotify.com/v1/audio-features/?ids=1eroCliWpJrEu1V7VSObcO with Params: {} returned 403 due to None\n"
     ]
    },
    {
     "name": "stdout",
     "output_type": "stream",
     "text": [
      "Falha após múltiplas tentativas.\n",
      "Erro: http status: 403, code:-1 - https://api.spotify.com/v1/audio-features/?ids=1eroCliWpJrEu1V7VSObcO:\n",
      " None, reason: None. Tentativa 1 de 3\n"
     ]
    },
    {
     "name": "stderr",
     "output_type": "stream",
     "text": [
      "HTTP Error for GET to https://api.spotify.com/v1/audio-features/?ids=1eroCliWpJrEu1V7VSObcO with Params: {} returned 403 due to None\n"
     ]
    },
    {
     "name": "stdout",
     "output_type": "stream",
     "text": [
      "Erro: http status: 403, code:-1 - https://api.spotify.com/v1/audio-features/?ids=1eroCliWpJrEu1V7VSObcO:\n",
      " None, reason: None. Tentativa 2 de 3\n"
     ]
    },
    {
     "name": "stderr",
     "output_type": "stream",
     "text": [
      "HTTP Error for GET to https://api.spotify.com/v1/audio-features/?ids=1eroCliWpJrEu1V7VSObcO with Params: {} returned 403 due to None\n"
     ]
    },
    {
     "name": "stdout",
     "output_type": "stream",
     "text": [
      "Erro: http status: 403, code:-1 - https://api.spotify.com/v1/audio-features/?ids=1eroCliWpJrEu1V7VSObcO:\n",
      " None, reason: None. Tentativa 3 de 3\n"
     ]
    },
    {
     "name": "stderr",
     "output_type": "stream",
     "text": [
      "HTTP Error for GET to https://api.spotify.com/v1/audio-features/?ids=6n3HGiq4v35D6eFOSwqYuo with Params: {} returned 403 due to None\n"
     ]
    },
    {
     "name": "stdout",
     "output_type": "stream",
     "text": [
      "Falha após múltiplas tentativas.\n",
      "Erro: http status: 403, code:-1 - https://api.spotify.com/v1/audio-features/?ids=6n3HGiq4v35D6eFOSwqYuo:\n",
      " None, reason: None. Tentativa 1 de 3\n"
     ]
    },
    {
     "name": "stderr",
     "output_type": "stream",
     "text": [
      "HTTP Error for GET to https://api.spotify.com/v1/audio-features/?ids=6n3HGiq4v35D6eFOSwqYuo with Params: {} returned 403 due to None\n"
     ]
    },
    {
     "name": "stdout",
     "output_type": "stream",
     "text": [
      "Erro: http status: 403, code:-1 - https://api.spotify.com/v1/audio-features/?ids=6n3HGiq4v35D6eFOSwqYuo:\n",
      " None, reason: None. Tentativa 2 de 3\n"
     ]
    },
    {
     "name": "stderr",
     "output_type": "stream",
     "text": [
      "HTTP Error for GET to https://api.spotify.com/v1/audio-features/?ids=6n3HGiq4v35D6eFOSwqYuo with Params: {} returned 403 due to None\n"
     ]
    },
    {
     "name": "stdout",
     "output_type": "stream",
     "text": [
      "Erro: http status: 403, code:-1 - https://api.spotify.com/v1/audio-features/?ids=6n3HGiq4v35D6eFOSwqYuo:\n",
      " None, reason: None. Tentativa 3 de 3\n"
     ]
    },
    {
     "name": "stderr",
     "output_type": "stream",
     "text": [
      "HTTP Error for GET to https://api.spotify.com/v1/audio-features/?ids=40iJIUlhi6renaREYGeIDS with Params: {} returned 403 due to None\n"
     ]
    },
    {
     "name": "stdout",
     "output_type": "stream",
     "text": [
      "Falha após múltiplas tentativas.\n",
      "Erro: http status: 403, code:-1 - https://api.spotify.com/v1/audio-features/?ids=40iJIUlhi6renaREYGeIDS:\n",
      " None, reason: None. Tentativa 1 de 3\n"
     ]
    },
    {
     "name": "stderr",
     "output_type": "stream",
     "text": [
      "HTTP Error for GET to https://api.spotify.com/v1/audio-features/?ids=40iJIUlhi6renaREYGeIDS with Params: {} returned 403 due to None\n"
     ]
    },
    {
     "name": "stdout",
     "output_type": "stream",
     "text": [
      "Erro: http status: 403, code:-1 - https://api.spotify.com/v1/audio-features/?ids=40iJIUlhi6renaREYGeIDS:\n",
      " None, reason: None. Tentativa 2 de 3\n"
     ]
    },
    {
     "name": "stderr",
     "output_type": "stream",
     "text": [
      "HTTP Error for GET to https://api.spotify.com/v1/audio-features/?ids=40iJIUlhi6renaREYGeIDS with Params: {} returned 403 due to None\n"
     ]
    },
    {
     "name": "stdout",
     "output_type": "stream",
     "text": [
      "Erro: http status: 403, code:-1 - https://api.spotify.com/v1/audio-features/?ids=40iJIUlhi6renaREYGeIDS:\n",
      " None, reason: None. Tentativa 3 de 3\n"
     ]
    },
    {
     "name": "stderr",
     "output_type": "stream",
     "text": [
      "HTTP Error for GET to https://api.spotify.com/v1/audio-features/?ids=6LxSe8YmdPxy095Ux6znaQ with Params: {} returned 403 due to None\n"
     ]
    },
    {
     "name": "stdout",
     "output_type": "stream",
     "text": [
      "Falha após múltiplas tentativas.\n",
      "Erro: http status: 403, code:-1 - https://api.spotify.com/v1/audio-features/?ids=6LxSe8YmdPxy095Ux6znaQ:\n",
      " None, reason: None. Tentativa 1 de 3\n"
     ]
    },
    {
     "name": "stderr",
     "output_type": "stream",
     "text": [
      "HTTP Error for GET to https://api.spotify.com/v1/audio-features/?ids=6LxSe8YmdPxy095Ux6znaQ with Params: {} returned 403 due to None\n"
     ]
    },
    {
     "name": "stdout",
     "output_type": "stream",
     "text": [
      "Erro: http status: 403, code:-1 - https://api.spotify.com/v1/audio-features/?ids=6LxSe8YmdPxy095Ux6znaQ:\n",
      " None, reason: None. Tentativa 2 de 3\n"
     ]
    },
    {
     "name": "stderr",
     "output_type": "stream",
     "text": [
      "HTTP Error for GET to https://api.spotify.com/v1/audio-features/?ids=6LxSe8YmdPxy095Ux6znaQ with Params: {} returned 403 due to None\n"
     ]
    },
    {
     "name": "stdout",
     "output_type": "stream",
     "text": [
      "Erro: http status: 403, code:-1 - https://api.spotify.com/v1/audio-features/?ids=6LxSe8YmdPxy095Ux6znaQ:\n",
      " None, reason: None. Tentativa 3 de 3\n"
     ]
    },
    {
     "name": "stderr",
     "output_type": "stream",
     "text": [
      "HTTP Error for GET to https://api.spotify.com/v1/audio-features/?ids=5IZXB5IKAD2qlvTPJYDCFB with Params: {} returned 403 due to None\n"
     ]
    },
    {
     "name": "stdout",
     "output_type": "stream",
     "text": [
      "Falha após múltiplas tentativas.\n",
      "Processando artista Post Malone (2/5)\n",
      "Erro: http status: 403, code:-1 - https://api.spotify.com/v1/audio-features/?ids=5IZXB5IKAD2qlvTPJYDCFB:\n",
      " None, reason: None. Tentativa 1 de 3\n"
     ]
    },
    {
     "name": "stderr",
     "output_type": "stream",
     "text": [
      "HTTP Error for GET to https://api.spotify.com/v1/audio-features/?ids=5IZXB5IKAD2qlvTPJYDCFB with Params: {} returned 403 due to None\n"
     ]
    },
    {
     "name": "stdout",
     "output_type": "stream",
     "text": [
      "Erro: http status: 403, code:-1 - https://api.spotify.com/v1/audio-features/?ids=5IZXB5IKAD2qlvTPJYDCFB:\n",
      " None, reason: None. Tentativa 2 de 3\n"
     ]
    },
    {
     "name": "stderr",
     "output_type": "stream",
     "text": [
      "HTTP Error for GET to https://api.spotify.com/v1/audio-features/?ids=5IZXB5IKAD2qlvTPJYDCFB with Params: {} returned 403 due to None\n"
     ]
    },
    {
     "name": "stdout",
     "output_type": "stream",
     "text": [
      "Erro: http status: 403, code:-1 - https://api.spotify.com/v1/audio-features/?ids=5IZXB5IKAD2qlvTPJYDCFB:\n",
      " None, reason: None. Tentativa 3 de 3\n"
     ]
    },
    {
     "name": "stderr",
     "output_type": "stream",
     "text": [
      "HTTP Error for GET to https://api.spotify.com/v1/audio-features/?ids=2OzhQlSqBEmt7hmkYxfT6m with Params: {} returned 403 due to None\n"
     ]
    },
    {
     "name": "stdout",
     "output_type": "stream",
     "text": [
      "Falha após múltiplas tentativas.\n",
      "Erro: http status: 403, code:-1 - https://api.spotify.com/v1/audio-features/?ids=2OzhQlSqBEmt7hmkYxfT6m:\n",
      " None, reason: None. Tentativa 1 de 3\n"
     ]
    },
    {
     "name": "stderr",
     "output_type": "stream",
     "text": [
      "HTTP Error for GET to https://api.spotify.com/v1/audio-features/?ids=2OzhQlSqBEmt7hmkYxfT6m with Params: {} returned 403 due to None\n"
     ]
    },
    {
     "name": "stdout",
     "output_type": "stream",
     "text": [
      "Erro: http status: 403, code:-1 - https://api.spotify.com/v1/audio-features/?ids=2OzhQlSqBEmt7hmkYxfT6m:\n",
      " None, reason: None. Tentativa 2 de 3\n"
     ]
    },
    {
     "name": "stderr",
     "output_type": "stream",
     "text": [
      "HTTP Error for GET to https://api.spotify.com/v1/audio-features/?ids=2OzhQlSqBEmt7hmkYxfT6m with Params: {} returned 403 due to None\n"
     ]
    },
    {
     "name": "stdout",
     "output_type": "stream",
     "text": [
      "Erro: http status: 403, code:-1 - https://api.spotify.com/v1/audio-features/?ids=2OzhQlSqBEmt7hmkYxfT6m:\n",
      " None, reason: None. Tentativa 3 de 3\n"
     ]
    },
    {
     "name": "stderr",
     "output_type": "stream",
     "text": [
      "HTTP Error for GET to https://api.spotify.com/v1/audio-features/?ids=0RiRZpuVRbi7oqRdSMwhQY with Params: {} returned 403 due to None\n"
     ]
    },
    {
     "name": "stdout",
     "output_type": "stream",
     "text": [
      "Falha após múltiplas tentativas.\n",
      "Erro: http status: 403, code:-1 - https://api.spotify.com/v1/audio-features/?ids=0RiRZpuVRbi7oqRdSMwhQY:\n",
      " None, reason: None. Tentativa 1 de 3\n"
     ]
    },
    {
     "name": "stderr",
     "output_type": "stream",
     "text": [
      "HTTP Error for GET to https://api.spotify.com/v1/audio-features/?ids=0RiRZpuVRbi7oqRdSMwhQY with Params: {} returned 403 due to None\n"
     ]
    },
    {
     "name": "stdout",
     "output_type": "stream",
     "text": [
      "Erro: http status: 403, code:-1 - https://api.spotify.com/v1/audio-features/?ids=0RiRZpuVRbi7oqRdSMwhQY:\n",
      " None, reason: None. Tentativa 2 de 3\n"
     ]
    },
    {
     "name": "stderr",
     "output_type": "stream",
     "text": [
      "HTTP Error for GET to https://api.spotify.com/v1/audio-features/?ids=0RiRZpuVRbi7oqRdSMwhQY with Params: {} returned 403 due to None\n"
     ]
    },
    {
     "name": "stdout",
     "output_type": "stream",
     "text": [
      "Erro: http status: 403, code:-1 - https://api.spotify.com/v1/audio-features/?ids=0RiRZpuVRbi7oqRdSMwhQY:\n",
      " None, reason: None. Tentativa 3 de 3\n"
     ]
    },
    {
     "name": "stderr",
     "output_type": "stream",
     "text": [
      "HTTP Error for GET to https://api.spotify.com/v1/audio-features/?ids=21jGcNKet2qwijlDFuPiPb with Params: {} returned 403 due to None\n"
     ]
    },
    {
     "name": "stdout",
     "output_type": "stream",
     "text": [
      "Falha após múltiplas tentativas.\n",
      "Erro: http status: 403, code:-1 - https://api.spotify.com/v1/audio-features/?ids=21jGcNKet2qwijlDFuPiPb:\n",
      " None, reason: None. Tentativa 1 de 3\n"
     ]
    },
    {
     "name": "stderr",
     "output_type": "stream",
     "text": [
      "HTTP Error for GET to https://api.spotify.com/v1/audio-features/?ids=21jGcNKet2qwijlDFuPiPb with Params: {} returned 403 due to None\n"
     ]
    },
    {
     "name": "stdout",
     "output_type": "stream",
     "text": [
      "Erro: http status: 403, code:-1 - https://api.spotify.com/v1/audio-features/?ids=21jGcNKet2qwijlDFuPiPb:\n",
      " None, reason: None. Tentativa 2 de 3\n"
     ]
    },
    {
     "name": "stderr",
     "output_type": "stream",
     "text": [
      "HTTP Error for GET to https://api.spotify.com/v1/audio-features/?ids=21jGcNKet2qwijlDFuPiPb with Params: {} returned 403 due to None\n"
     ]
    },
    {
     "name": "stdout",
     "output_type": "stream",
     "text": [
      "Erro: http status: 403, code:-1 - https://api.spotify.com/v1/audio-features/?ids=21jGcNKet2qwijlDFuPiPb:\n",
      " None, reason: None. Tentativa 3 de 3\n"
     ]
    },
    {
     "name": "stderr",
     "output_type": "stream",
     "text": [
      "HTTP Error for GET to https://api.spotify.com/v1/audio-features/?ids=0e7ipj03S05BNilyu5bRzt with Params: {} returned 403 due to None\n"
     ]
    },
    {
     "name": "stdout",
     "output_type": "stream",
     "text": [
      "Falha após múltiplas tentativas.\n",
      "Erro: http status: 403, code:-1 - https://api.spotify.com/v1/audio-features/?ids=0e7ipj03S05BNilyu5bRzt:\n",
      " None, reason: None. Tentativa 1 de 3\n"
     ]
    },
    {
     "name": "stderr",
     "output_type": "stream",
     "text": [
      "HTTP Error for GET to https://api.spotify.com/v1/audio-features/?ids=0e7ipj03S05BNilyu5bRzt with Params: {} returned 403 due to None\n"
     ]
    },
    {
     "name": "stdout",
     "output_type": "stream",
     "text": [
      "Erro: http status: 403, code:-1 - https://api.spotify.com/v1/audio-features/?ids=0e7ipj03S05BNilyu5bRzt:\n",
      " None, reason: None. Tentativa 2 de 3\n"
     ]
    },
    {
     "name": "stderr",
     "output_type": "stream",
     "text": [
      "HTTP Error for GET to https://api.spotify.com/v1/audio-features/?ids=0e7ipj03S05BNilyu5bRzt with Params: {} returned 403 due to None\n"
     ]
    },
    {
     "name": "stdout",
     "output_type": "stream",
     "text": [
      "Erro: http status: 403, code:-1 - https://api.spotify.com/v1/audio-features/?ids=0e7ipj03S05BNilyu5bRzt:\n",
      " None, reason: None. Tentativa 3 de 3\n"
     ]
    },
    {
     "name": "stderr",
     "output_type": "stream",
     "text": [
      "HTTP Error for GET to https://api.spotify.com/v1/audio-features/?ids=6StwwqB84sJeLr7tZDTxEX with Params: {} returned 403 due to None\n"
     ]
    },
    {
     "name": "stdout",
     "output_type": "stream",
     "text": [
      "Falha após múltiplas tentativas.\n",
      "Erro: http status: 403, code:-1 - https://api.spotify.com/v1/audio-features/?ids=6StwwqB84sJeLr7tZDTxEX:\n",
      " None, reason: None. Tentativa 1 de 3\n"
     ]
    },
    {
     "name": "stderr",
     "output_type": "stream",
     "text": [
      "HTTP Error for GET to https://api.spotify.com/v1/audio-features/?ids=6StwwqB84sJeLr7tZDTxEX with Params: {} returned 403 due to None\n"
     ]
    },
    {
     "name": "stdout",
     "output_type": "stream",
     "text": [
      "Erro: http status: 403, code:-1 - https://api.spotify.com/v1/audio-features/?ids=6StwwqB84sJeLr7tZDTxEX:\n",
      " None, reason: None. Tentativa 2 de 3\n"
     ]
    },
    {
     "name": "stderr",
     "output_type": "stream",
     "text": [
      "HTTP Error for GET to https://api.spotify.com/v1/audio-features/?ids=6StwwqB84sJeLr7tZDTxEX with Params: {} returned 403 due to None\n"
     ]
    },
    {
     "name": "stdout",
     "output_type": "stream",
     "text": [
      "Erro: http status: 403, code:-1 - https://api.spotify.com/v1/audio-features/?ids=6StwwqB84sJeLr7tZDTxEX:\n",
      " None, reason: None. Tentativa 3 de 3\n"
     ]
    },
    {
     "name": "stderr",
     "output_type": "stream",
     "text": [
      "HTTP Error for GET to https://api.spotify.com/v1/audio-features/?ids=22VHOlVYBqytsrAqV8yXBK with Params: {} returned 403 due to None\n"
     ]
    },
    {
     "name": "stdout",
     "output_type": "stream",
     "text": [
      "Falha após múltiplas tentativas.\n",
      "Erro: http status: 403, code:-1 - https://api.spotify.com/v1/audio-features/?ids=22VHOlVYBqytsrAqV8yXBK:\n",
      " None, reason: None. Tentativa 1 de 3\n"
     ]
    },
    {
     "name": "stderr",
     "output_type": "stream",
     "text": [
      "HTTP Error for GET to https://api.spotify.com/v1/audio-features/?ids=22VHOlVYBqytsrAqV8yXBK with Params: {} returned 403 due to None\n"
     ]
    },
    {
     "name": "stdout",
     "output_type": "stream",
     "text": [
      "Erro: http status: 403, code:-1 - https://api.spotify.com/v1/audio-features/?ids=22VHOlVYBqytsrAqV8yXBK:\n",
      " None, reason: None. Tentativa 2 de 3\n"
     ]
    },
    {
     "name": "stderr",
     "output_type": "stream",
     "text": [
      "HTTP Error for GET to https://api.spotify.com/v1/audio-features/?ids=22VHOlVYBqytsrAqV8yXBK with Params: {} returned 403 due to None\n"
     ]
    },
    {
     "name": "stdout",
     "output_type": "stream",
     "text": [
      "Erro: http status: 403, code:-1 - https://api.spotify.com/v1/audio-features/?ids=22VHOlVYBqytsrAqV8yXBK:\n",
      " None, reason: None. Tentativa 3 de 3\n"
     ]
    },
    {
     "name": "stderr",
     "output_type": "stream",
     "text": [
      "HTTP Error for GET to https://api.spotify.com/v1/audio-features/?ids=3a1lNhkSLSkpJE4MSHpDu9 with Params: {} returned 403 due to None\n"
     ]
    },
    {
     "name": "stdout",
     "output_type": "stream",
     "text": [
      "Falha após múltiplas tentativas.\n",
      "Erro: http status: 403, code:-1 - https://api.spotify.com/v1/audio-features/?ids=3a1lNhkSLSkpJE4MSHpDu9:\n",
      " None, reason: None. Tentativa 1 de 3\n"
     ]
    },
    {
     "name": "stderr",
     "output_type": "stream",
     "text": [
      "HTTP Error for GET to https://api.spotify.com/v1/audio-features/?ids=3a1lNhkSLSkpJE4MSHpDu9 with Params: {} returned 403 due to None\n"
     ]
    },
    {
     "name": "stdout",
     "output_type": "stream",
     "text": [
      "Erro: http status: 403, code:-1 - https://api.spotify.com/v1/audio-features/?ids=3a1lNhkSLSkpJE4MSHpDu9:\n",
      " None, reason: None. Tentativa 2 de 3\n"
     ]
    },
    {
     "name": "stderr",
     "output_type": "stream",
     "text": [
      "HTTP Error for GET to https://api.spotify.com/v1/audio-features/?ids=3a1lNhkSLSkpJE4MSHpDu9 with Params: {} returned 403 due to None\n"
     ]
    },
    {
     "name": "stdout",
     "output_type": "stream",
     "text": [
      "Erro: http status: 403, code:-1 - https://api.spotify.com/v1/audio-features/?ids=3a1lNhkSLSkpJE4MSHpDu9:\n",
      " None, reason: None. Tentativa 3 de 3\n"
     ]
    },
    {
     "name": "stderr",
     "output_type": "stream",
     "text": [
      "HTTP Error for GET to https://api.spotify.com/v1/audio-features/?ids=7dt6x5M1jzdTEt8oCbisTK with Params: {} returned 403 due to None\n"
     ]
    },
    {
     "name": "stdout",
     "output_type": "stream",
     "text": [
      "Falha após múltiplas tentativas.\n",
      "Erro: http status: 403, code:-1 - https://api.spotify.com/v1/audio-features/?ids=7dt6x5M1jzdTEt8oCbisTK:\n",
      " None, reason: None. Tentativa 1 de 3\n"
     ]
    },
    {
     "name": "stderr",
     "output_type": "stream",
     "text": [
      "HTTP Error for GET to https://api.spotify.com/v1/audio-features/?ids=7dt6x5M1jzdTEt8oCbisTK with Params: {} returned 403 due to None\n"
     ]
    },
    {
     "name": "stdout",
     "output_type": "stream",
     "text": [
      "Erro: http status: 403, code:-1 - https://api.spotify.com/v1/audio-features/?ids=7dt6x5M1jzdTEt8oCbisTK:\n",
      " None, reason: None. Tentativa 2 de 3\n"
     ]
    },
    {
     "name": "stderr",
     "output_type": "stream",
     "text": [
      "HTTP Error for GET to https://api.spotify.com/v1/audio-features/?ids=7dt6x5M1jzdTEt8oCbisTK with Params: {} returned 403 due to None\n"
     ]
    },
    {
     "name": "stdout",
     "output_type": "stream",
     "text": [
      "Erro: http status: 403, code:-1 - https://api.spotify.com/v1/audio-features/?ids=7dt6x5M1jzdTEt8oCbisTK:\n",
      " None, reason: None. Tentativa 3 de 3\n"
     ]
    },
    {
     "name": "stderr",
     "output_type": "stream",
     "text": [
      "HTTP Error for GET to https://api.spotify.com/v1/audio-features/?ids=0mNzElhEofvgMWAJoOA4q9 with Params: {} returned 403 due to None\n"
     ]
    },
    {
     "name": "stdout",
     "output_type": "stream",
     "text": [
      "Falha após múltiplas tentativas.\n",
      "Erro: http status: 403, code:-1 - https://api.spotify.com/v1/audio-features/?ids=0mNzElhEofvgMWAJoOA4q9:\n",
      " None, reason: None. Tentativa 1 de 3\n"
     ]
    },
    {
     "name": "stderr",
     "output_type": "stream",
     "text": [
      "HTTP Error for GET to https://api.spotify.com/v1/audio-features/?ids=0mNzElhEofvgMWAJoOA4q9 with Params: {} returned 403 due to None\n"
     ]
    },
    {
     "name": "stdout",
     "output_type": "stream",
     "text": [
      "Erro: http status: 403, code:-1 - https://api.spotify.com/v1/audio-features/?ids=0mNzElhEofvgMWAJoOA4q9:\n",
      " None, reason: None. Tentativa 2 de 3\n"
     ]
    },
    {
     "name": "stderr",
     "output_type": "stream",
     "text": [
      "HTTP Error for GET to https://api.spotify.com/v1/audio-features/?ids=0mNzElhEofvgMWAJoOA4q9 with Params: {} returned 403 due to None\n"
     ]
    },
    {
     "name": "stdout",
     "output_type": "stream",
     "text": [
      "Erro: http status: 403, code:-1 - https://api.spotify.com/v1/audio-features/?ids=0mNzElhEofvgMWAJoOA4q9:\n",
      " None, reason: None. Tentativa 3 de 3\n",
      "Falha após múltiplas tentativas.\n",
      "Processando artista Ed Sheeran (3/5)\n"
     ]
    },
    {
     "name": "stderr",
     "output_type": "stream",
     "text": [
      "HTTP Error for GET to https://api.spotify.com/v1/audio-features/?ids=0hz5PNF2wejwUKCMpesQWt with Params: {} returned 403 due to None\n"
     ]
    },
    {
     "name": "stdout",
     "output_type": "stream",
     "text": [
      "Erro: http status: 403, code:-1 - https://api.spotify.com/v1/audio-features/?ids=0hz5PNF2wejwUKCMpesQWt:\n",
      " None, reason: None. Tentativa 1 de 3\n"
     ]
    },
    {
     "name": "stderr",
     "output_type": "stream",
     "text": [
      "HTTP Error for GET to https://api.spotify.com/v1/audio-features/?ids=0hz5PNF2wejwUKCMpesQWt with Params: {} returned 403 due to None\n"
     ]
    },
    {
     "name": "stdout",
     "output_type": "stream",
     "text": [
      "Erro: http status: 403, code:-1 - https://api.spotify.com/v1/audio-features/?ids=0hz5PNF2wejwUKCMpesQWt:\n",
      " None, reason: None. Tentativa 2 de 3\n"
     ]
    },
    {
     "name": "stderr",
     "output_type": "stream",
     "text": [
      "HTTP Error for GET to https://api.spotify.com/v1/audio-features/?ids=0hz5PNF2wejwUKCMpesQWt with Params: {} returned 403 due to None\n"
     ]
    },
    {
     "name": "stdout",
     "output_type": "stream",
     "text": [
      "Erro: http status: 403, code:-1 - https://api.spotify.com/v1/audio-features/?ids=0hz5PNF2wejwUKCMpesQWt:\n",
      " None, reason: None. Tentativa 3 de 3\n"
     ]
    },
    {
     "name": "stderr",
     "output_type": "stream",
     "text": [
      "HTTP Error for GET to https://api.spotify.com/v1/audio-features/?ids=7qiZfU4dY1lWllzX7mPBI3 with Params: {} returned 403 due to None\n"
     ]
    },
    {
     "name": "stdout",
     "output_type": "stream",
     "text": [
      "Falha após múltiplas tentativas.\n",
      "Erro: http status: 403, code:-1 - https://api.spotify.com/v1/audio-features/?ids=7qiZfU4dY1lWllzX7mPBI3:\n",
      " None, reason: None. Tentativa 1 de 3\n"
     ]
    },
    {
     "name": "stderr",
     "output_type": "stream",
     "text": [
      "HTTP Error for GET to https://api.spotify.com/v1/audio-features/?ids=7qiZfU4dY1lWllzX7mPBI3 with Params: {} returned 403 due to None\n"
     ]
    },
    {
     "name": "stdout",
     "output_type": "stream",
     "text": [
      "Erro: http status: 403, code:-1 - https://api.spotify.com/v1/audio-features/?ids=7qiZfU4dY1lWllzX7mPBI3:\n",
      " None, reason: None. Tentativa 2 de 3\n"
     ]
    },
    {
     "name": "stderr",
     "output_type": "stream",
     "text": [
      "HTTP Error for GET to https://api.spotify.com/v1/audio-features/?ids=7qiZfU4dY1lWllzX7mPBI3 with Params: {} returned 403 due to None\n"
     ]
    },
    {
     "name": "stdout",
     "output_type": "stream",
     "text": [
      "Erro: http status: 403, code:-1 - https://api.spotify.com/v1/audio-features/?ids=7qiZfU4dY1lWllzX7mPBI3:\n",
      " None, reason: None. Tentativa 3 de 3\n"
     ]
    },
    {
     "name": "stderr",
     "output_type": "stream",
     "text": [
      "HTTP Error for GET to https://api.spotify.com/v1/audio-features/?ids=0tgVpDi06FyKpA1z0VMD4v with Params: {} returned 403 due to None\n"
     ]
    },
    {
     "name": "stdout",
     "output_type": "stream",
     "text": [
      "Falha após múltiplas tentativas.\n",
      "Erro: http status: 403, code:-1 - https://api.spotify.com/v1/audio-features/?ids=0tgVpDi06FyKpA1z0VMD4v:\n",
      " None, reason: None. Tentativa 1 de 3\n"
     ]
    },
    {
     "name": "stderr",
     "output_type": "stream",
     "text": [
      "HTTP Error for GET to https://api.spotify.com/v1/audio-features/?ids=0tgVpDi06FyKpA1z0VMD4v with Params: {} returned 403 due to None\n"
     ]
    },
    {
     "name": "stdout",
     "output_type": "stream",
     "text": [
      "Erro: http status: 403, code:-1 - https://api.spotify.com/v1/audio-features/?ids=0tgVpDi06FyKpA1z0VMD4v:\n",
      " None, reason: None. Tentativa 2 de 3\n"
     ]
    },
    {
     "name": "stderr",
     "output_type": "stream",
     "text": [
      "HTTP Error for GET to https://api.spotify.com/v1/audio-features/?ids=0tgVpDi06FyKpA1z0VMD4v with Params: {} returned 403 due to None\n"
     ]
    },
    {
     "name": "stdout",
     "output_type": "stream",
     "text": [
      "Erro: http status: 403, code:-1 - https://api.spotify.com/v1/audio-features/?ids=0tgVpDi06FyKpA1z0VMD4v:\n",
      " None, reason: None. Tentativa 3 de 3\n"
     ]
    },
    {
     "name": "stderr",
     "output_type": "stream",
     "text": [
      "HTTP Error for GET to https://api.spotify.com/v1/audio-features/?ids=1HNkqx9Ahdgi1Ixy2xkKkL with Params: {} returned 403 due to None\n"
     ]
    },
    {
     "name": "stdout",
     "output_type": "stream",
     "text": [
      "Falha após múltiplas tentativas.\n",
      "Erro: http status: 403, code:-1 - https://api.spotify.com/v1/audio-features/?ids=1HNkqx9Ahdgi1Ixy2xkKkL:\n",
      " None, reason: None. Tentativa 1 de 3\n"
     ]
    },
    {
     "name": "stderr",
     "output_type": "stream",
     "text": [
      "HTTP Error for GET to https://api.spotify.com/v1/audio-features/?ids=1HNkqx9Ahdgi1Ixy2xkKkL with Params: {} returned 403 due to None\n"
     ]
    },
    {
     "name": "stdout",
     "output_type": "stream",
     "text": [
      "Erro: http status: 403, code:-1 - https://api.spotify.com/v1/audio-features/?ids=1HNkqx9Ahdgi1Ixy2xkKkL:\n",
      " None, reason: None. Tentativa 2 de 3\n"
     ]
    },
    {
     "name": "stderr",
     "output_type": "stream",
     "text": [
      "HTTP Error for GET to https://api.spotify.com/v1/audio-features/?ids=1HNkqx9Ahdgi1Ixy2xkKkL with Params: {} returned 403 due to None\n"
     ]
    },
    {
     "name": "stdout",
     "output_type": "stream",
     "text": [
      "Erro: http status: 403, code:-1 - https://api.spotify.com/v1/audio-features/?ids=1HNkqx9Ahdgi1Ixy2xkKkL:\n",
      " None, reason: None. Tentativa 3 de 3\n"
     ]
    },
    {
     "name": "stderr",
     "output_type": "stream",
     "text": [
      "HTTP Error for GET to https://api.spotify.com/v1/audio-features/?ids=50nfwKoDiSYg8zOCREWAm5 with Params: {} returned 403 due to None\n"
     ]
    },
    {
     "name": "stdout",
     "output_type": "stream",
     "text": [
      "Falha após múltiplas tentativas.\n",
      "Erro: http status: 403, code:-1 - https://api.spotify.com/v1/audio-features/?ids=50nfwKoDiSYg8zOCREWAm5:\n",
      " None, reason: None. Tentativa 1 de 3\n"
     ]
    },
    {
     "name": "stderr",
     "output_type": "stream",
     "text": [
      "HTTP Error for GET to https://api.spotify.com/v1/audio-features/?ids=50nfwKoDiSYg8zOCREWAm5 with Params: {} returned 403 due to None\n"
     ]
    },
    {
     "name": "stdout",
     "output_type": "stream",
     "text": [
      "Erro: http status: 403, code:-1 - https://api.spotify.com/v1/audio-features/?ids=50nfwKoDiSYg8zOCREWAm5:\n",
      " None, reason: None. Tentativa 2 de 3\n"
     ]
    },
    {
     "name": "stderr",
     "output_type": "stream",
     "text": [
      "HTTP Error for GET to https://api.spotify.com/v1/audio-features/?ids=50nfwKoDiSYg8zOCREWAm5 with Params: {} returned 403 due to None\n"
     ]
    },
    {
     "name": "stdout",
     "output_type": "stream",
     "text": [
      "Erro: http status: 403, code:-1 - https://api.spotify.com/v1/audio-features/?ids=50nfwKoDiSYg8zOCREWAm5:\n",
      " None, reason: None. Tentativa 3 de 3\n"
     ]
    },
    {
     "name": "stderr",
     "output_type": "stream",
     "text": [
      "HTTP Error for GET to https://api.spotify.com/v1/audio-features/?ids=34gCuhDGsG4bRPIf9bb02f with Params: {} returned 403 due to None\n"
     ]
    },
    {
     "name": "stdout",
     "output_type": "stream",
     "text": [
      "Falha após múltiplas tentativas.\n",
      "Erro: http status: 403, code:-1 - https://api.spotify.com/v1/audio-features/?ids=34gCuhDGsG4bRPIf9bb02f:\n",
      " None, reason: None. Tentativa 1 de 3\n"
     ]
    },
    {
     "name": "stderr",
     "output_type": "stream",
     "text": [
      "HTTP Error for GET to https://api.spotify.com/v1/audio-features/?ids=34gCuhDGsG4bRPIf9bb02f with Params: {} returned 403 due to None\n"
     ]
    },
    {
     "name": "stdout",
     "output_type": "stream",
     "text": [
      "Erro: http status: 403, code:-1 - https://api.spotify.com/v1/audio-features/?ids=34gCuhDGsG4bRPIf9bb02f:\n",
      " None, reason: None. Tentativa 2 de 3\n"
     ]
    },
    {
     "name": "stderr",
     "output_type": "stream",
     "text": [
      "HTTP Error for GET to https://api.spotify.com/v1/audio-features/?ids=34gCuhDGsG4bRPIf9bb02f with Params: {} returned 403 due to None\n"
     ]
    },
    {
     "name": "stdout",
     "output_type": "stream",
     "text": [
      "Erro: http status: 403, code:-1 - https://api.spotify.com/v1/audio-features/?ids=34gCuhDGsG4bRPIf9bb02f:\n",
      " None, reason: None. Tentativa 3 de 3\n"
     ]
    },
    {
     "name": "stderr",
     "output_type": "stream",
     "text": [
      "HTTP Error for GET to https://api.spotify.com/v1/audio-features/?ids=3emyfamOMxgrus8oZQh6Mx with Params: {} returned 403 due to None\n"
     ]
    },
    {
     "name": "stdout",
     "output_type": "stream",
     "text": [
      "Falha após múltiplas tentativas.\n",
      "Erro: http status: 403, code:-1 - https://api.spotify.com/v1/audio-features/?ids=3emyfamOMxgrus8oZQh6Mx:\n",
      " None, reason: None. Tentativa 1 de 3\n"
     ]
    },
    {
     "name": "stderr",
     "output_type": "stream",
     "text": [
      "HTTP Error for GET to https://api.spotify.com/v1/audio-features/?ids=3emyfamOMxgrus8oZQh6Mx with Params: {} returned 403 due to None\n"
     ]
    },
    {
     "name": "stdout",
     "output_type": "stream",
     "text": [
      "Erro: http status: 403, code:-1 - https://api.spotify.com/v1/audio-features/?ids=3emyfamOMxgrus8oZQh6Mx:\n",
      " None, reason: None. Tentativa 2 de 3\n"
     ]
    },
    {
     "name": "stderr",
     "output_type": "stream",
     "text": [
      "HTTP Error for GET to https://api.spotify.com/v1/audio-features/?ids=3emyfamOMxgrus8oZQh6Mx with Params: {} returned 403 due to None\n"
     ]
    },
    {
     "name": "stdout",
     "output_type": "stream",
     "text": [
      "Erro: http status: 403, code:-1 - https://api.spotify.com/v1/audio-features/?ids=3emyfamOMxgrus8oZQh6Mx:\n",
      " None, reason: None. Tentativa 3 de 3\n"
     ]
    },
    {
     "name": "stderr",
     "output_type": "stream",
     "text": [
      "HTTP Error for GET to https://api.spotify.com/v1/audio-features/?ids=3rmo8F54jFF8OgYsqTxm5d with Params: {} returned 403 due to None\n"
     ]
    },
    {
     "name": "stdout",
     "output_type": "stream",
     "text": [
      "Falha após múltiplas tentativas.\n",
      "Erro: http status: 403, code:-1 - https://api.spotify.com/v1/audio-features/?ids=3rmo8F54jFF8OgYsqTxm5d:\n",
      " None, reason: None. Tentativa 1 de 3\n"
     ]
    },
    {
     "name": "stderr",
     "output_type": "stream",
     "text": [
      "HTTP Error for GET to https://api.spotify.com/v1/audio-features/?ids=3rmo8F54jFF8OgYsqTxm5d with Params: {} returned 403 due to None\n"
     ]
    },
    {
     "name": "stdout",
     "output_type": "stream",
     "text": [
      "Erro: http status: 403, code:-1 - https://api.spotify.com/v1/audio-features/?ids=3rmo8F54jFF8OgYsqTxm5d:\n",
      " None, reason: None. Tentativa 2 de 3\n"
     ]
    },
    {
     "name": "stderr",
     "output_type": "stream",
     "text": [
      "HTTP Error for GET to https://api.spotify.com/v1/audio-features/?ids=3rmo8F54jFF8OgYsqTxm5d with Params: {} returned 403 due to None\n"
     ]
    },
    {
     "name": "stdout",
     "output_type": "stream",
     "text": [
      "Erro: http status: 403, code:-1 - https://api.spotify.com/v1/audio-features/?ids=3rmo8F54jFF8OgYsqTxm5d:\n",
      " None, reason: None. Tentativa 3 de 3\n"
     ]
    },
    {
     "name": "stderr",
     "output_type": "stream",
     "text": [
      "HTTP Error for GET to https://api.spotify.com/v1/audio-features/?ids=0hVXuCcriWRGvwMV1r5Yn9 with Params: {} returned 403 due to None\n"
     ]
    },
    {
     "name": "stdout",
     "output_type": "stream",
     "text": [
      "Falha após múltiplas tentativas.\n",
      "Erro: http status: 403, code:-1 - https://api.spotify.com/v1/audio-features/?ids=0hVXuCcriWRGvwMV1r5Yn9:\n",
      " None, reason: None. Tentativa 1 de 3\n"
     ]
    },
    {
     "name": "stderr",
     "output_type": "stream",
     "text": [
      "HTTP Error for GET to https://api.spotify.com/v1/audio-features/?ids=0hVXuCcriWRGvwMV1r5Yn9 with Params: {} returned 403 due to None\n"
     ]
    },
    {
     "name": "stdout",
     "output_type": "stream",
     "text": [
      "Erro: http status: 403, code:-1 - https://api.spotify.com/v1/audio-features/?ids=0hVXuCcriWRGvwMV1r5Yn9:\n",
      " None, reason: None. Tentativa 2 de 3\n"
     ]
    },
    {
     "name": "stderr",
     "output_type": "stream",
     "text": [
      "HTTP Error for GET to https://api.spotify.com/v1/audio-features/?ids=0hVXuCcriWRGvwMV1r5Yn9 with Params: {} returned 403 due to None\n"
     ]
    },
    {
     "name": "stdout",
     "output_type": "stream",
     "text": [
      "Erro: http status: 403, code:-1 - https://api.spotify.com/v1/audio-features/?ids=0hVXuCcriWRGvwMV1r5Yn9:\n",
      " None, reason: None. Tentativa 3 de 3\n"
     ]
    },
    {
     "name": "stderr",
     "output_type": "stream",
     "text": [
      "HTTP Error for GET to https://api.spotify.com/v1/audio-features/?ids=6PCUP3dWmTjcTtXY02oFdT with Params: {} returned 403 due to None\n"
     ]
    },
    {
     "name": "stdout",
     "output_type": "stream",
     "text": [
      "Falha após múltiplas tentativas.\n",
      "Erro: http status: 403, code:-1 - https://api.spotify.com/v1/audio-features/?ids=6PCUP3dWmTjcTtXY02oFdT:\n",
      " None, reason: None. Tentativa 1 de 3\n"
     ]
    },
    {
     "name": "stderr",
     "output_type": "stream",
     "text": [
      "HTTP Error for GET to https://api.spotify.com/v1/audio-features/?ids=6PCUP3dWmTjcTtXY02oFdT with Params: {} returned 403 due to None\n"
     ]
    },
    {
     "name": "stdout",
     "output_type": "stream",
     "text": [
      "Erro: http status: 403, code:-1 - https://api.spotify.com/v1/audio-features/?ids=6PCUP3dWmTjcTtXY02oFdT:\n",
      " None, reason: None. Tentativa 2 de 3\n"
     ]
    },
    {
     "name": "stderr",
     "output_type": "stream",
     "text": [
      "HTTP Error for GET to https://api.spotify.com/v1/audio-features/?ids=6PCUP3dWmTjcTtXY02oFdT with Params: {} returned 403 due to None\n"
     ]
    },
    {
     "name": "stdout",
     "output_type": "stream",
     "text": [
      "Erro: http status: 403, code:-1 - https://api.spotify.com/v1/audio-features/?ids=6PCUP3dWmTjcTtXY02oFdT:\n",
      " None, reason: None. Tentativa 3 de 3\n",
      "Falha após múltiplas tentativas.\n",
      "Processando artista J Balvin (4/5)\n"
     ]
    },
    {
     "name": "stderr",
     "output_type": "stream",
     "text": [
      "HTTP Error for GET to https://api.spotify.com/v1/audio-features/?ids=3mg9jYNC1NihbthlglzrWP with Params: {} returned 403 due to None\n"
     ]
    },
    {
     "name": "stdout",
     "output_type": "stream",
     "text": [
      "Erro: http status: 403, code:-1 - https://api.spotify.com/v1/audio-features/?ids=3mg9jYNC1NihbthlglzrWP:\n",
      " None, reason: None. Tentativa 1 de 3\n"
     ]
    },
    {
     "name": "stderr",
     "output_type": "stream",
     "text": [
      "HTTP Error for GET to https://api.spotify.com/v1/audio-features/?ids=3mg9jYNC1NihbthlglzrWP with Params: {} returned 403 due to None\n"
     ]
    },
    {
     "name": "stdout",
     "output_type": "stream",
     "text": [
      "Erro: http status: 403, code:-1 - https://api.spotify.com/v1/audio-features/?ids=3mg9jYNC1NihbthlglzrWP:\n",
      " None, reason: None. Tentativa 2 de 3\n"
     ]
    },
    {
     "name": "stderr",
     "output_type": "stream",
     "text": [
      "HTTP Error for GET to https://api.spotify.com/v1/audio-features/?ids=3mg9jYNC1NihbthlglzrWP with Params: {} returned 403 due to None\n"
     ]
    },
    {
     "name": "stdout",
     "output_type": "stream",
     "text": [
      "Erro: http status: 403, code:-1 - https://api.spotify.com/v1/audio-features/?ids=3mg9jYNC1NihbthlglzrWP:\n",
      " None, reason: None. Tentativa 3 de 3\n"
     ]
    },
    {
     "name": "stderr",
     "output_type": "stream",
     "text": [
      "HTTP Error for GET to https://api.spotify.com/v1/audio-features/?ids=0fea68AdmYNygeTGI4RC18 with Params: {} returned 403 due to None\n"
     ]
    },
    {
     "name": "stdout",
     "output_type": "stream",
     "text": [
      "Falha após múltiplas tentativas.\n",
      "Erro: http status: 403, code:-1 - https://api.spotify.com/v1/audio-features/?ids=0fea68AdmYNygeTGI4RC18:\n",
      " None, reason: None. Tentativa 1 de 3\n"
     ]
    },
    {
     "name": "stderr",
     "output_type": "stream",
     "text": [
      "HTTP Error for GET to https://api.spotify.com/v1/audio-features/?ids=0fea68AdmYNygeTGI4RC18 with Params: {} returned 403 due to None\n"
     ]
    },
    {
     "name": "stdout",
     "output_type": "stream",
     "text": [
      "Erro: http status: 403, code:-1 - https://api.spotify.com/v1/audio-features/?ids=0fea68AdmYNygeTGI4RC18:\n",
      " None, reason: None. Tentativa 2 de 3\n"
     ]
    },
    {
     "name": "stderr",
     "output_type": "stream",
     "text": [
      "HTTP Error for GET to https://api.spotify.com/v1/audio-features/?ids=0fea68AdmYNygeTGI4RC18 with Params: {} returned 403 due to None\n"
     ]
    },
    {
     "name": "stdout",
     "output_type": "stream",
     "text": [
      "Erro: http status: 403, code:-1 - https://api.spotify.com/v1/audio-features/?ids=0fea68AdmYNygeTGI4RC18:\n",
      " None, reason: None. Tentativa 3 de 3\n"
     ]
    },
    {
     "name": "stderr",
     "output_type": "stream",
     "text": [
      "HTTP Error for GET to https://api.spotify.com/v1/audio-features/?ids=2beS6dD5rovBxSA1zYoSHR with Params: {} returned 403 due to None\n"
     ]
    },
    {
     "name": "stdout",
     "output_type": "stream",
     "text": [
      "Falha após múltiplas tentativas.\n",
      "Erro: http status: 403, code:-1 - https://api.spotify.com/v1/audio-features/?ids=2beS6dD5rovBxSA1zYoSHR:\n",
      " None, reason: None. Tentativa 1 de 3\n"
     ]
    },
    {
     "name": "stderr",
     "output_type": "stream",
     "text": [
      "HTTP Error for GET to https://api.spotify.com/v1/audio-features/?ids=2beS6dD5rovBxSA1zYoSHR with Params: {} returned 403 due to None\n"
     ]
    },
    {
     "name": "stdout",
     "output_type": "stream",
     "text": [
      "Erro: http status: 403, code:-1 - https://api.spotify.com/v1/audio-features/?ids=2beS6dD5rovBxSA1zYoSHR:\n",
      " None, reason: None. Tentativa 2 de 3\n"
     ]
    },
    {
     "name": "stderr",
     "output_type": "stream",
     "text": [
      "HTTP Error for GET to https://api.spotify.com/v1/audio-features/?ids=2beS6dD5rovBxSA1zYoSHR with Params: {} returned 403 due to None\n"
     ]
    },
    {
     "name": "stdout",
     "output_type": "stream",
     "text": [
      "Erro: http status: 403, code:-1 - https://api.spotify.com/v1/audio-features/?ids=2beS6dD5rovBxSA1zYoSHR:\n",
      " None, reason: None. Tentativa 3 de 3\n"
     ]
    },
    {
     "name": "stderr",
     "output_type": "stream",
     "text": [
      "HTTP Error for GET to https://api.spotify.com/v1/audio-features/?ids=3Ga6eKrUFf12ouh9Yw3v2D with Params: {} returned 403 due to None\n"
     ]
    },
    {
     "name": "stdout",
     "output_type": "stream",
     "text": [
      "Falha após múltiplas tentativas.\n",
      "Erro: http status: 403, code:-1 - https://api.spotify.com/v1/audio-features/?ids=3Ga6eKrUFf12ouh9Yw3v2D:\n",
      " None, reason: None. Tentativa 1 de 3\n"
     ]
    },
    {
     "name": "stderr",
     "output_type": "stream",
     "text": [
      "HTTP Error for GET to https://api.spotify.com/v1/audio-features/?ids=3Ga6eKrUFf12ouh9Yw3v2D with Params: {} returned 403 due to None\n"
     ]
    },
    {
     "name": "stdout",
     "output_type": "stream",
     "text": [
      "Erro: http status: 403, code:-1 - https://api.spotify.com/v1/audio-features/?ids=3Ga6eKrUFf12ouh9Yw3v2D:\n",
      " None, reason: None. Tentativa 2 de 3\n"
     ]
    },
    {
     "name": "stderr",
     "output_type": "stream",
     "text": [
      "HTTP Error for GET to https://api.spotify.com/v1/audio-features/?ids=3Ga6eKrUFf12ouh9Yw3v2D with Params: {} returned 403 due to None\n"
     ]
    },
    {
     "name": "stdout",
     "output_type": "stream",
     "text": [
      "Erro: http status: 403, code:-1 - https://api.spotify.com/v1/audio-features/?ids=3Ga6eKrUFf12ouh9Yw3v2D:\n",
      " None, reason: None. Tentativa 3 de 3\n"
     ]
    },
    {
     "name": "stderr",
     "output_type": "stream",
     "text": [
      "HTTP Error for GET to https://api.spotify.com/v1/audio-features/?ids=2llFXBrftm6YJzBj3tpk0s with Params: {} returned 403 due to None\n"
     ]
    },
    {
     "name": "stdout",
     "output_type": "stream",
     "text": [
      "Falha após múltiplas tentativas.\n",
      "Erro: http status: 403, code:-1 - https://api.spotify.com/v1/audio-features/?ids=2llFXBrftm6YJzBj3tpk0s:\n",
      " None, reason: None. Tentativa 1 de 3\n"
     ]
    },
    {
     "name": "stderr",
     "output_type": "stream",
     "text": [
      "HTTP Error for GET to https://api.spotify.com/v1/audio-features/?ids=2llFXBrftm6YJzBj3tpk0s with Params: {} returned 403 due to None\n"
     ]
    },
    {
     "name": "stdout",
     "output_type": "stream",
     "text": [
      "Erro: http status: 403, code:-1 - https://api.spotify.com/v1/audio-features/?ids=2llFXBrftm6YJzBj3tpk0s:\n",
      " None, reason: None. Tentativa 2 de 3\n"
     ]
    },
    {
     "name": "stderr",
     "output_type": "stream",
     "text": [
      "HTTP Error for GET to https://api.spotify.com/v1/audio-features/?ids=2llFXBrftm6YJzBj3tpk0s with Params: {} returned 403 due to None\n"
     ]
    },
    {
     "name": "stdout",
     "output_type": "stream",
     "text": [
      "Erro: http status: 403, code:-1 - https://api.spotify.com/v1/audio-features/?ids=2llFXBrftm6YJzBj3tpk0s:\n",
      " None, reason: None. Tentativa 3 de 3\n"
     ]
    },
    {
     "name": "stderr",
     "output_type": "stream",
     "text": [
      "HTTP Error for GET to https://api.spotify.com/v1/audio-features/?ids=7COfe3P7KgfwDwIRB8LIDw with Params: {} returned 403 due to None\n"
     ]
    },
    {
     "name": "stdout",
     "output_type": "stream",
     "text": [
      "Falha após múltiplas tentativas.\n",
      "Erro: http status: 403, code:-1 - https://api.spotify.com/v1/audio-features/?ids=7COfe3P7KgfwDwIRB8LIDw:\n",
      " None, reason: None. Tentativa 1 de 3\n"
     ]
    },
    {
     "name": "stderr",
     "output_type": "stream",
     "text": [
      "HTTP Error for GET to https://api.spotify.com/v1/audio-features/?ids=7COfe3P7KgfwDwIRB8LIDw with Params: {} returned 403 due to None\n"
     ]
    },
    {
     "name": "stdout",
     "output_type": "stream",
     "text": [
      "Erro: http status: 403, code:-1 - https://api.spotify.com/v1/audio-features/?ids=7COfe3P7KgfwDwIRB8LIDw:\n",
      " None, reason: None. Tentativa 2 de 3\n"
     ]
    },
    {
     "name": "stderr",
     "output_type": "stream",
     "text": [
      "HTTP Error for GET to https://api.spotify.com/v1/audio-features/?ids=7COfe3P7KgfwDwIRB8LIDw with Params: {} returned 403 due to None\n"
     ]
    },
    {
     "name": "stdout",
     "output_type": "stream",
     "text": [
      "Erro: http status: 403, code:-1 - https://api.spotify.com/v1/audio-features/?ids=7COfe3P7KgfwDwIRB8LIDw:\n",
      " None, reason: None. Tentativa 3 de 3\n"
     ]
    },
    {
     "name": "stderr",
     "output_type": "stream",
     "text": [
      "HTTP Error for GET to https://api.spotify.com/v1/audio-features/?ids=7hynhxDoDpgMIV12JuVtNa with Params: {} returned 403 due to None\n"
     ]
    },
    {
     "name": "stdout",
     "output_type": "stream",
     "text": [
      "Falha após múltiplas tentativas.\n",
      "Erro: http status: 403, code:-1 - https://api.spotify.com/v1/audio-features/?ids=7hynhxDoDpgMIV12JuVtNa:\n",
      " None, reason: None. Tentativa 1 de 3\n"
     ]
    },
    {
     "name": "stderr",
     "output_type": "stream",
     "text": [
      "HTTP Error for GET to https://api.spotify.com/v1/audio-features/?ids=7hynhxDoDpgMIV12JuVtNa with Params: {} returned 403 due to None\n"
     ]
    },
    {
     "name": "stdout",
     "output_type": "stream",
     "text": [
      "Erro: http status: 403, code:-1 - https://api.spotify.com/v1/audio-features/?ids=7hynhxDoDpgMIV12JuVtNa:\n",
      " None, reason: None. Tentativa 2 de 3\n"
     ]
    },
    {
     "name": "stderr",
     "output_type": "stream",
     "text": [
      "HTTP Error for GET to https://api.spotify.com/v1/audio-features/?ids=7hynhxDoDpgMIV12JuVtNa with Params: {} returned 403 due to None\n"
     ]
    },
    {
     "name": "stdout",
     "output_type": "stream",
     "text": [
      "Erro: http status: 403, code:-1 - https://api.spotify.com/v1/audio-features/?ids=7hynhxDoDpgMIV12JuVtNa:\n",
      " None, reason: None. Tentativa 3 de 3\n"
     ]
    },
    {
     "name": "stderr",
     "output_type": "stream",
     "text": [
      "HTTP Error for GET to https://api.spotify.com/v1/audio-features/?ids=58q2HKrzhC3ozto2nDdN4z with Params: {} returned 403 due to None\n"
     ]
    },
    {
     "name": "stdout",
     "output_type": "stream",
     "text": [
      "Falha após múltiplas tentativas.\n",
      "Erro: http status: 403, code:-1 - https://api.spotify.com/v1/audio-features/?ids=58q2HKrzhC3ozto2nDdN4z:\n",
      " None, reason: None. Tentativa 1 de 3\n"
     ]
    },
    {
     "name": "stderr",
     "output_type": "stream",
     "text": [
      "HTTP Error for GET to https://api.spotify.com/v1/audio-features/?ids=58q2HKrzhC3ozto2nDdN4z with Params: {} returned 403 due to None\n"
     ]
    },
    {
     "name": "stdout",
     "output_type": "stream",
     "text": [
      "Erro: http status: 403, code:-1 - https://api.spotify.com/v1/audio-features/?ids=58q2HKrzhC3ozto2nDdN4z:\n",
      " None, reason: None. Tentativa 2 de 3\n"
     ]
    },
    {
     "name": "stderr",
     "output_type": "stream",
     "text": [
      "HTTP Error for GET to https://api.spotify.com/v1/audio-features/?ids=58q2HKrzhC3ozto2nDdN4z with Params: {} returned 403 due to None\n"
     ]
    },
    {
     "name": "stdout",
     "output_type": "stream",
     "text": [
      "Erro: http status: 403, code:-1 - https://api.spotify.com/v1/audio-features/?ids=58q2HKrzhC3ozto2nDdN4z:\n",
      " None, reason: None. Tentativa 3 de 3\n"
     ]
    },
    {
     "name": "stderr",
     "output_type": "stream",
     "text": [
      "HTTP Error for GET to https://api.spotify.com/v1/audio-features/?ids=25ZAibhr3bdlMCLmubZDVt with Params: {} returned 403 due to None\n"
     ]
    },
    {
     "name": "stdout",
     "output_type": "stream",
     "text": [
      "Falha após múltiplas tentativas.\n",
      "Erro: http status: 403, code:-1 - https://api.spotify.com/v1/audio-features/?ids=25ZAibhr3bdlMCLmubZDVt:\n",
      " None, reason: None. Tentativa 1 de 3\n"
     ]
    },
    {
     "name": "stderr",
     "output_type": "stream",
     "text": [
      "HTTP Error for GET to https://api.spotify.com/v1/audio-features/?ids=25ZAibhr3bdlMCLmubZDVt with Params: {} returned 403 due to None\n"
     ]
    },
    {
     "name": "stdout",
     "output_type": "stream",
     "text": [
      "Erro: http status: 403, code:-1 - https://api.spotify.com/v1/audio-features/?ids=25ZAibhr3bdlMCLmubZDVt:\n",
      " None, reason: None. Tentativa 2 de 3\n"
     ]
    },
    {
     "name": "stderr",
     "output_type": "stream",
     "text": [
      "HTTP Error for GET to https://api.spotify.com/v1/audio-features/?ids=25ZAibhr3bdlMCLmubZDVt with Params: {} returned 403 due to None\n"
     ]
    },
    {
     "name": "stdout",
     "output_type": "stream",
     "text": [
      "Erro: http status: 403, code:-1 - https://api.spotify.com/v1/audio-features/?ids=25ZAibhr3bdlMCLmubZDVt:\n",
      " None, reason: None. Tentativa 3 de 3\n"
     ]
    },
    {
     "name": "stderr",
     "output_type": "stream",
     "text": [
      "HTTP Error for GET to https://api.spotify.com/v1/audio-features/?ids=5YUyW9opqNsMSEzzecZih1 with Params: {} returned 403 due to None\n"
     ]
    },
    {
     "name": "stdout",
     "output_type": "stream",
     "text": [
      "Falha após múltiplas tentativas.\n",
      "Erro: http status: 403, code:-1 - https://api.spotify.com/v1/audio-features/?ids=5YUyW9opqNsMSEzzecZih1:\n",
      " None, reason: None. Tentativa 1 de 3\n"
     ]
    },
    {
     "name": "stderr",
     "output_type": "stream",
     "text": [
      "HTTP Error for GET to https://api.spotify.com/v1/audio-features/?ids=5YUyW9opqNsMSEzzecZih1 with Params: {} returned 403 due to None\n"
     ]
    },
    {
     "name": "stdout",
     "output_type": "stream",
     "text": [
      "Erro: http status: 403, code:-1 - https://api.spotify.com/v1/audio-features/?ids=5YUyW9opqNsMSEzzecZih1:\n",
      " None, reason: None. Tentativa 2 de 3\n"
     ]
    },
    {
     "name": "stderr",
     "output_type": "stream",
     "text": [
      "HTTP Error for GET to https://api.spotify.com/v1/audio-features/?ids=5YUyW9opqNsMSEzzecZih1 with Params: {} returned 403 due to None\n"
     ]
    },
    {
     "name": "stdout",
     "output_type": "stream",
     "text": [
      "Erro: http status: 403, code:-1 - https://api.spotify.com/v1/audio-features/?ids=5YUyW9opqNsMSEzzecZih1:\n",
      " None, reason: None. Tentativa 3 de 3\n",
      "Falha após múltiplas tentativas.\n",
      "Processando artista Bad Bunny (5/5)\n"
     ]
    },
    {
     "name": "stderr",
     "output_type": "stream",
     "text": [
      "HTTP Error for GET to https://api.spotify.com/v1/audio-features/?ids=0l0vcZMU7AOeQmUIREoI2U with Params: {} returned 403 due to None\n"
     ]
    },
    {
     "name": "stdout",
     "output_type": "stream",
     "text": [
      "Erro: http status: 403, code:-1 - https://api.spotify.com/v1/audio-features/?ids=0l0vcZMU7AOeQmUIREoI2U:\n",
      " None, reason: None. Tentativa 1 de 3\n"
     ]
    },
    {
     "name": "stderr",
     "output_type": "stream",
     "text": [
      "HTTP Error for GET to https://api.spotify.com/v1/audio-features/?ids=0l0vcZMU7AOeQmUIREoI2U with Params: {} returned 403 due to None\n"
     ]
    },
    {
     "name": "stdout",
     "output_type": "stream",
     "text": [
      "Erro: http status: 403, code:-1 - https://api.spotify.com/v1/audio-features/?ids=0l0vcZMU7AOeQmUIREoI2U:\n",
      " None, reason: None. Tentativa 2 de 3\n"
     ]
    },
    {
     "name": "stderr",
     "output_type": "stream",
     "text": [
      "HTTP Error for GET to https://api.spotify.com/v1/audio-features/?ids=0l0vcZMU7AOeQmUIREoI2U with Params: {} returned 403 due to None\n"
     ]
    },
    {
     "name": "stdout",
     "output_type": "stream",
     "text": [
      "Erro: http status: 403, code:-1 - https://api.spotify.com/v1/audio-features/?ids=0l0vcZMU7AOeQmUIREoI2U:\n",
      " None, reason: None. Tentativa 3 de 3\n"
     ]
    },
    {
     "name": "stderr",
     "output_type": "stream",
     "text": [
      "HTTP Error for GET to https://api.spotify.com/v1/audio-features/?ids=3zOgFY5kpQ6p2cwPIquZks with Params: {} returned 403 due to None\n"
     ]
    },
    {
     "name": "stdout",
     "output_type": "stream",
     "text": [
      "Falha após múltiplas tentativas.\n",
      "Erro: http status: 403, code:-1 - https://api.spotify.com/v1/audio-features/?ids=3zOgFY5kpQ6p2cwPIquZks:\n",
      " None, reason: None. Tentativa 1 de 3\n"
     ]
    },
    {
     "name": "stderr",
     "output_type": "stream",
     "text": [
      "HTTP Error for GET to https://api.spotify.com/v1/audio-features/?ids=3zOgFY5kpQ6p2cwPIquZks with Params: {} returned 403 due to None\n"
     ]
    },
    {
     "name": "stdout",
     "output_type": "stream",
     "text": [
      "Erro: http status: 403, code:-1 - https://api.spotify.com/v1/audio-features/?ids=3zOgFY5kpQ6p2cwPIquZks:\n",
      " None, reason: None. Tentativa 2 de 3\n"
     ]
    },
    {
     "name": "stderr",
     "output_type": "stream",
     "text": [
      "HTTP Error for GET to https://api.spotify.com/v1/audio-features/?ids=3zOgFY5kpQ6p2cwPIquZks with Params: {} returned 403 due to None\n"
     ]
    },
    {
     "name": "stdout",
     "output_type": "stream",
     "text": [
      "Erro: http status: 403, code:-1 - https://api.spotify.com/v1/audio-features/?ids=3zOgFY5kpQ6p2cwPIquZks:\n",
      " None, reason: None. Tentativa 3 de 3\n"
     ]
    },
    {
     "name": "stderr",
     "output_type": "stream",
     "text": [
      "HTTP Error for GET to https://api.spotify.com/v1/audio-features/?ids=7iQXYTyuG13aoeHxGG28Nh with Params: {} returned 403 due to None\n"
     ]
    },
    {
     "name": "stdout",
     "output_type": "stream",
     "text": [
      "Falha após múltiplas tentativas.\n",
      "Erro: http status: 403, code:-1 - https://api.spotify.com/v1/audio-features/?ids=7iQXYTyuG13aoeHxGG28Nh:\n",
      " None, reason: None. Tentativa 1 de 3\n"
     ]
    },
    {
     "name": "stderr",
     "output_type": "stream",
     "text": [
      "HTTP Error for GET to https://api.spotify.com/v1/audio-features/?ids=7iQXYTyuG13aoeHxGG28Nh with Params: {} returned 403 due to None\n"
     ]
    },
    {
     "name": "stdout",
     "output_type": "stream",
     "text": [
      "Erro: http status: 403, code:-1 - https://api.spotify.com/v1/audio-features/?ids=7iQXYTyuG13aoeHxGG28Nh:\n",
      " None, reason: None. Tentativa 2 de 3\n"
     ]
    },
    {
     "name": "stderr",
     "output_type": "stream",
     "text": [
      "HTTP Error for GET to https://api.spotify.com/v1/audio-features/?ids=7iQXYTyuG13aoeHxGG28Nh with Params: {} returned 403 due to None\n"
     ]
    },
    {
     "name": "stdout",
     "output_type": "stream",
     "text": [
      "Erro: http status: 403, code:-1 - https://api.spotify.com/v1/audio-features/?ids=7iQXYTyuG13aoeHxGG28Nh:\n",
      " None, reason: None. Tentativa 3 de 3\n"
     ]
    },
    {
     "name": "stderr",
     "output_type": "stream",
     "text": [
      "HTTP Error for GET to https://api.spotify.com/v1/audio-features/?ids=2yzshFeBIwH8tWIqHEFLeD with Params: {} returned 403 due to None\n"
     ]
    },
    {
     "name": "stdout",
     "output_type": "stream",
     "text": [
      "Falha após múltiplas tentativas.\n",
      "Erro: http status: 403, code:-1 - https://api.spotify.com/v1/audio-features/?ids=2yzshFeBIwH8tWIqHEFLeD:\n",
      " None, reason: None. Tentativa 1 de 3\n"
     ]
    },
    {
     "name": "stderr",
     "output_type": "stream",
     "text": [
      "HTTP Error for GET to https://api.spotify.com/v1/audio-features/?ids=2yzshFeBIwH8tWIqHEFLeD with Params: {} returned 403 due to None\n"
     ]
    },
    {
     "name": "stdout",
     "output_type": "stream",
     "text": [
      "Erro: http status: 403, code:-1 - https://api.spotify.com/v1/audio-features/?ids=2yzshFeBIwH8tWIqHEFLeD:\n",
      " None, reason: None. Tentativa 2 de 3\n"
     ]
    },
    {
     "name": "stderr",
     "output_type": "stream",
     "text": [
      "HTTP Error for GET to https://api.spotify.com/v1/audio-features/?ids=2yzshFeBIwH8tWIqHEFLeD with Params: {} returned 403 due to None\n"
     ]
    },
    {
     "name": "stdout",
     "output_type": "stream",
     "text": [
      "Erro: http status: 403, code:-1 - https://api.spotify.com/v1/audio-features/?ids=2yzshFeBIwH8tWIqHEFLeD:\n",
      " None, reason: None. Tentativa 3 de 3\n"
     ]
    },
    {
     "name": "stderr",
     "output_type": "stream",
     "text": [
      "HTTP Error for GET to https://api.spotify.com/v1/audio-features/?ids=0fea68AdmYNygeTGI4RC18 with Params: {} returned 403 due to None\n"
     ]
    },
    {
     "name": "stdout",
     "output_type": "stream",
     "text": [
      "Falha após múltiplas tentativas.\n",
      "Erro: http status: 403, code:-1 - https://api.spotify.com/v1/audio-features/?ids=0fea68AdmYNygeTGI4RC18:\n",
      " None, reason: None. Tentativa 1 de 3\n"
     ]
    },
    {
     "name": "stderr",
     "output_type": "stream",
     "text": [
      "HTTP Error for GET to https://api.spotify.com/v1/audio-features/?ids=0fea68AdmYNygeTGI4RC18 with Params: {} returned 403 due to None\n"
     ]
    },
    {
     "name": "stdout",
     "output_type": "stream",
     "text": [
      "Erro: http status: 403, code:-1 - https://api.spotify.com/v1/audio-features/?ids=0fea68AdmYNygeTGI4RC18:\n",
      " None, reason: None. Tentativa 2 de 3\n"
     ]
    },
    {
     "name": "stderr",
     "output_type": "stream",
     "text": [
      "HTTP Error for GET to https://api.spotify.com/v1/audio-features/?ids=0fea68AdmYNygeTGI4RC18 with Params: {} returned 403 due to None\n"
     ]
    },
    {
     "name": "stdout",
     "output_type": "stream",
     "text": [
      "Erro: http status: 403, code:-1 - https://api.spotify.com/v1/audio-features/?ids=0fea68AdmYNygeTGI4RC18:\n",
      " None, reason: None. Tentativa 3 de 3\n"
     ]
    },
    {
     "name": "stderr",
     "output_type": "stream",
     "text": [
      "HTTP Error for GET to https://api.spotify.com/v1/audio-features/?ids=0eeX8L0DWvGth1F6xVkvv7 with Params: {} returned 403 due to None\n"
     ]
    },
    {
     "name": "stdout",
     "output_type": "stream",
     "text": [
      "Falha após múltiplas tentativas.\n",
      "Erro: http status: 403, code:-1 - https://api.spotify.com/v1/audio-features/?ids=0eeX8L0DWvGth1F6xVkvv7:\n",
      " None, reason: None. Tentativa 1 de 3\n"
     ]
    },
    {
     "name": "stderr",
     "output_type": "stream",
     "text": [
      "HTTP Error for GET to https://api.spotify.com/v1/audio-features/?ids=0eeX8L0DWvGth1F6xVkvv7 with Params: {} returned 403 due to None\n"
     ]
    },
    {
     "name": "stdout",
     "output_type": "stream",
     "text": [
      "Erro: http status: 403, code:-1 - https://api.spotify.com/v1/audio-features/?ids=0eeX8L0DWvGth1F6xVkvv7:\n",
      " None, reason: None. Tentativa 2 de 3\n"
     ]
    },
    {
     "name": "stderr",
     "output_type": "stream",
     "text": [
      "HTTP Error for GET to https://api.spotify.com/v1/audio-features/?ids=0eeX8L0DWvGth1F6xVkvv7 with Params: {} returned 403 due to None\n"
     ]
    },
    {
     "name": "stdout",
     "output_type": "stream",
     "text": [
      "Erro: http status: 403, code:-1 - https://api.spotify.com/v1/audio-features/?ids=0eeX8L0DWvGth1F6xVkvv7:\n",
      " None, reason: None. Tentativa 3 de 3\n"
     ]
    },
    {
     "name": "stderr",
     "output_type": "stream",
     "text": [
      "HTTP Error for GET to https://api.spotify.com/v1/audio-features/?ids=6Sq7ltF9Qa7SNFBsV5Cogx with Params: {} returned 403 due to None\n"
     ]
    },
    {
     "name": "stdout",
     "output_type": "stream",
     "text": [
      "Falha após múltiplas tentativas.\n",
      "Erro: http status: 403, code:-1 - https://api.spotify.com/v1/audio-features/?ids=6Sq7ltF9Qa7SNFBsV5Cogx:\n",
      " None, reason: None. Tentativa 1 de 3\n"
     ]
    },
    {
     "name": "stderr",
     "output_type": "stream",
     "text": [
      "HTTP Error for GET to https://api.spotify.com/v1/audio-features/?ids=6Sq7ltF9Qa7SNFBsV5Cogx with Params: {} returned 403 due to None\n"
     ]
    },
    {
     "name": "stdout",
     "output_type": "stream",
     "text": [
      "Erro: http status: 403, code:-1 - https://api.spotify.com/v1/audio-features/?ids=6Sq7ltF9Qa7SNFBsV5Cogx:\n",
      " None, reason: None. Tentativa 2 de 3\n"
     ]
    },
    {
     "name": "stderr",
     "output_type": "stream",
     "text": [
      "HTTP Error for GET to https://api.spotify.com/v1/audio-features/?ids=6Sq7ltF9Qa7SNFBsV5Cogx with Params: {} returned 403 due to None\n"
     ]
    },
    {
     "name": "stdout",
     "output_type": "stream",
     "text": [
      "Erro: http status: 403, code:-1 - https://api.spotify.com/v1/audio-features/?ids=6Sq7ltF9Qa7SNFBsV5Cogx:\n",
      " None, reason: None. Tentativa 3 de 3\n"
     ]
    },
    {
     "name": "stderr",
     "output_type": "stream",
     "text": [
      "HTTP Error for GET to https://api.spotify.com/v1/audio-features/?ids=3k3NWokhRRkEPhCzPmV8TW with Params: {} returned 403 due to None\n"
     ]
    },
    {
     "name": "stdout",
     "output_type": "stream",
     "text": [
      "Falha após múltiplas tentativas.\n",
      "Erro: http status: 403, code:-1 - https://api.spotify.com/v1/audio-features/?ids=3k3NWokhRRkEPhCzPmV8TW:\n",
      " None, reason: None. Tentativa 1 de 3\n"
     ]
    },
    {
     "name": "stderr",
     "output_type": "stream",
     "text": [
      "HTTP Error for GET to https://api.spotify.com/v1/audio-features/?ids=3k3NWokhRRkEPhCzPmV8TW with Params: {} returned 403 due to None\n"
     ]
    },
    {
     "name": "stdout",
     "output_type": "stream",
     "text": [
      "Erro: http status: 403, code:-1 - https://api.spotify.com/v1/audio-features/?ids=3k3NWokhRRkEPhCzPmV8TW:\n",
      " None, reason: None. Tentativa 2 de 3\n"
     ]
    },
    {
     "name": "stderr",
     "output_type": "stream",
     "text": [
      "HTTP Error for GET to https://api.spotify.com/v1/audio-features/?ids=3k3NWokhRRkEPhCzPmV8TW with Params: {} returned 403 due to None\n"
     ]
    },
    {
     "name": "stdout",
     "output_type": "stream",
     "text": [
      "Erro: http status: 403, code:-1 - https://api.spotify.com/v1/audio-features/?ids=3k3NWokhRRkEPhCzPmV8TW:\n",
      " None, reason: None. Tentativa 3 de 3\n"
     ]
    },
    {
     "name": "stderr",
     "output_type": "stream",
     "text": [
      "HTTP Error for GET to https://api.spotify.com/v1/audio-features/?ids=4MzXwWMhyBbmu6hOcLVD49 with Params: {} returned 403 due to None\n"
     ]
    },
    {
     "name": "stdout",
     "output_type": "stream",
     "text": [
      "Falha após múltiplas tentativas.\n",
      "Erro: http status: 403, code:-1 - https://api.spotify.com/v1/audio-features/?ids=4MzXwWMhyBbmu6hOcLVD49:\n",
      " None, reason: None. Tentativa 1 de 3\n"
     ]
    },
    {
     "name": "stderr",
     "output_type": "stream",
     "text": [
      "HTTP Error for GET to https://api.spotify.com/v1/audio-features/?ids=4MzXwWMhyBbmu6hOcLVD49 with Params: {} returned 403 due to None\n"
     ]
    },
    {
     "name": "stdout",
     "output_type": "stream",
     "text": [
      "Erro: http status: 403, code:-1 - https://api.spotify.com/v1/audio-features/?ids=4MzXwWMhyBbmu6hOcLVD49:\n",
      " None, reason: None. Tentativa 2 de 3\n"
     ]
    },
    {
     "name": "stderr",
     "output_type": "stream",
     "text": [
      "HTTP Error for GET to https://api.spotify.com/v1/audio-features/?ids=4MzXwWMhyBbmu6hOcLVD49 with Params: {} returned 403 due to None\n"
     ]
    },
    {
     "name": "stdout",
     "output_type": "stream",
     "text": [
      "Erro: http status: 403, code:-1 - https://api.spotify.com/v1/audio-features/?ids=4MzXwWMhyBbmu6hOcLVD49:\n",
      " None, reason: None. Tentativa 3 de 3\n"
     ]
    },
    {
     "name": "stderr",
     "output_type": "stream",
     "text": [
      "HTTP Error for GET to https://api.spotify.com/v1/audio-features/?ids=1IHWl5LamUGEuP4ozKQSXZ with Params: {} returned 403 due to None\n"
     ]
    },
    {
     "name": "stdout",
     "output_type": "stream",
     "text": [
      "Falha após múltiplas tentativas.\n",
      "Erro: http status: 403, code:-1 - https://api.spotify.com/v1/audio-features/?ids=1IHWl5LamUGEuP4ozKQSXZ:\n",
      " None, reason: None. Tentativa 1 de 3\n"
     ]
    },
    {
     "name": "stderr",
     "output_type": "stream",
     "text": [
      "HTTP Error for GET to https://api.spotify.com/v1/audio-features/?ids=1IHWl5LamUGEuP4ozKQSXZ with Params: {} returned 403 due to None\n"
     ]
    },
    {
     "name": "stdout",
     "output_type": "stream",
     "text": [
      "Erro: http status: 403, code:-1 - https://api.spotify.com/v1/audio-features/?ids=1IHWl5LamUGEuP4ozKQSXZ:\n",
      " None, reason: None. Tentativa 2 de 3\n"
     ]
    },
    {
     "name": "stderr",
     "output_type": "stream",
     "text": [
      "HTTP Error for GET to https://api.spotify.com/v1/audio-features/?ids=1IHWl5LamUGEuP4ozKQSXZ with Params: {} returned 403 due to None\n"
     ]
    },
    {
     "name": "stdout",
     "output_type": "stream",
     "text": [
      "Erro: http status: 403, code:-1 - https://api.spotify.com/v1/audio-features/?ids=1IHWl5LamUGEuP4ozKQSXZ:\n",
      " None, reason: None. Tentativa 3 de 3\n",
      "Falha após múltiplas tentativas.\n"
     ]
    }
   ],
   "execution_count": 21
  }
 ],
 "metadata": {
  "kernelspec": {
   "display_name": ".venv",
   "language": "python",
   "name": "python3"
  },
  "language_info": {
   "codemirror_mode": {
    "name": "ipython",
    "version": 3
   },
   "file_extension": ".py",
   "mimetype": "text/x-python",
   "name": "python",
   "nbconvert_exporter": "python",
   "pygments_lexer": "ipython3",
   "version": "3.12.7"
  }
 },
 "nbformat": 4,
 "nbformat_minor": 5
}
