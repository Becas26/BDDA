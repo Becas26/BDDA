{
 "cells": [
  {
   "cell_type": "code",
   "metadata": {
    "ExecuteTime": {
     "end_time": "2025-01-04T00:31:45.395482Z",
     "start_time": "2025-01-04T00:31:45.391211Z"
    }
   },
   "source": [
    "import sys\n",
    "import os\n",
    "import pandas as pd\n",
    "from pathlib import Path\n",
    "import sqlite3\n",
    "\n",
    "# Caminho da pasta \"Twitch\"\n",
    "base_dir = Path(os.getcwd()).resolve().parent  # Ajuste se necessário\n",
    "\n",
    "# Adicionar as pasta ao sys.path\n",
    "processed_dir = base_dir / 'data' / 'processed'\n",
    "sys.path.append(str(processed_dir))"
   ],
   "outputs": [],
   "execution_count": 13
  },
  {
   "cell_type": "code",
   "metadata": {
    "ExecuteTime": {
     "end_time": "2025-01-04T00:31:45.580930Z",
     "start_time": "2025-01-04T00:31:45.541052Z"
    }
   },
   "source": [
    "# 1. Carregar o ficheiro CSV\n",
    "csv_artist = processed_dir / 'artist_details.csv'\n",
    "csv_tracks = processed_dir / 'artist_tracks.csv'\n",
    "artists = pd.read_csv(csv_artist)\n",
    "tracks = pd.read_csv(csv_tracks)"
   ],
   "outputs": [],
   "execution_count": 14
  },
  {
   "cell_type": "code",
   "metadata": {
    "ExecuteTime": {
     "end_time": "2025-01-04T00:31:45.683210Z",
     "start_time": "2025-01-04T00:31:45.680488Z"
    }
   },
   "source": [
    "# 2. Criar uma base de dados SQLite\n",
    "spotify = sqlite3.connect('spotify.db')  # Cria o ficheiro da base de dados localmente"
   ],
   "outputs": [],
   "execution_count": 15
  },
  {
   "cell_type": "code",
   "metadata": {
    "ExecuteTime": {
     "end_time": "2025-01-04T00:31:45.857186Z",
     "start_time": "2025-01-04T00:31:45.808959Z"
    }
   },
   "source": [
    "# 3. Carregar os DataFrames para tabelas separadas na base de dados\n",
    "artists.to_sql('songs1', spotify, if_exists='replace', index=False)\n",
    "tracks.to_sql('songs2', spotify, if_exists='replace', index=False)"
   ],
   "outputs": [
    {
     "data": {
      "text/plain": [
       "14456"
      ]
     },
     "execution_count": 16,
     "metadata": {},
     "output_type": "execute_result"
    }
   ],
   "execution_count": 16
  },
  {
   "cell_type": "code",
   "metadata": {
    "ExecuteTime": {
     "end_time": "2025-01-04T00:31:46.001979Z",
     "start_time": "2025-01-04T00:31:45.998442Z"
    }
   },
   "source": [
    "# 4. Executar queries SQL envolvendo ambas as tabelas\n",
    "# Exemplo 1: Número de artistas por país\n",
    "query = \"\"\"\n",
    "    SELECT country_born, COUNT(*) as artist_count\n",
    "    FROM songs1\n",
    "    GROUP BY country_born\n",
    "    ORDER BY artist_count DESC\n",
    "\"\"\"\n",
    "result = pd.read_sql_query(query, spotify)\n",
    "\n",
    "# Mostrar o resultado\n",
    "print(result)"
   ],
   "outputs": [
    {
     "name": "stdout",
     "output_type": "stream",
     "text": [
      "              country_born  artist_count\n",
      "0            United States           251\n",
      "1           United Kingdom            84\n",
      "2                   Canada            19\n",
      "3              Puerto Rico            14\n",
      "4                   Sweden            12\n",
      "5                Australia            12\n",
      "6              Netherlands            11\n",
      "7                   France             9\n",
      "8                Indonesia             6\n",
      "9                 Colombia             6\n",
      "10                  Norway             5\n",
      "11                 Germany             5\n",
      "12                   Spain             3\n",
      "13             New Zealand             3\n",
      "14                 Jamaica             3\n",
      "15                   Italy             3\n",
      "16                  Brazil             3\n",
      "17                 Belgium             3\n",
      "18                 Romania             2\n",
      "19                 Denmark             2\n",
      "20               Argentina             2\n",
      "21                 Senegal             1\n",
      "22                  Panama             1\n",
      "23               Lithuania             1\n",
      "24              Kazakhstan             1\n",
      "25                   Japan             1\n",
      "26                  Israel             1\n",
      "27                   India             1\n",
      "28                  Guyana             1\n",
      "29                 Finland             1\n",
      "30  British Virgin Islands             1\n"
     ]
    }
   ],
   "execution_count": 17
  },
  {
   "cell_type": "code",
   "metadata": {
    "ExecuteTime": {
     "end_time": "2025-01-04T00:31:46.789010Z",
     "start_time": "2025-01-04T00:31:46.784888Z"
    }
   },
   "source": [
    "# Query para contar artistas por género\n",
    "query = \"\"\"\n",
    "    SELECT gender, COUNT(*) as count\n",
    "    FROM songs1\n",
    "    GROUP BY gender\n",
    "    ORDER BY count DESC\n",
    "\"\"\"\n",
    "result = pd.read_sql_query(query, spotify)\n",
    "\n",
    "# Mostrar o resultado\n",
    "print(result)\n"
   ],
   "outputs": [
    {
     "name": "stdout",
     "output_type": "stream",
     "text": [
      "   gender  count\n",
      "0    Male    338\n",
      "1  Female    130\n"
     ]
    }
   ],
   "execution_count": 18
  }
 ],
 "metadata": {
  "kernelspec": {
   "display_name": ".venv",
   "language": "python",
   "name": "python3"
  },
  "language_info": {
   "codemirror_mode": {
    "name": "ipython",
    "version": 3
   },
   "file_extension": ".py",
   "mimetype": "text/x-python",
   "name": "python",
   "nbconvert_exporter": "python",
   "pygments_lexer": "ipython3",
   "version": "3.12.7"
  }
 },
 "nbformat": 4,
 "nbformat_minor": 2
}
